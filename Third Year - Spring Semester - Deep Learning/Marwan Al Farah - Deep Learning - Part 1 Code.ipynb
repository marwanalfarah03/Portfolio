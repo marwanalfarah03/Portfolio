{
  "cells": [
    {
      "cell_type": "markdown",
      "metadata": {
        "id": "v59oIiUbjI1d"
      },
      "source": [
        "<br>\n",
        "\n",
        "<center><img src=\"https://www.htu.edu.jo/images/ThumbnailsCoverPhotos/HTU%20Logo-250px.png\" alt=\"HTU\"  width=\"180px\" align=\"center\">\n",
        "\n",
        "\n",
        "<br>\n",
        "\n",
        "<p>\n",
        "\n",
        "**Deep Learning**\n",
        "\n",
        "10204450\n",
        "\n",
        "Section (3)\n",
        "\n",
        "**Developing a deep learning-based system - Part 1**\n",
        "\n",
        "**Submitted to**\n",
        "\n",
        "Dr. Ala'a Al-Habashna\n",
        "\n",
        "**Submitted on**\n",
        "\n",
        "June 13th, 2024\n",
        "\n",
        "**Submitted by**\n",
        "\n",
        "Marwan Tarek Shafiq Al Farah\n",
        "\n",
        "**Student ID**\n",
        "\n",
        "21110011\n",
        "\n",
        "Spring 2023 – 2024\n",
        "</p></center>"
      ]
    },
    {
      "cell_type": "code",
      "execution_count": null,
      "metadata": {
        "colab": {
          "base_uri": "https://localhost:8080/"
        },
        "id": "FRdJZxB50vuL",
        "outputId": "7f2a620e-1035-4b1f-9ef8-7919f09e715c"
      },
      "outputs": [
        {
          "name": "stdout",
          "output_type": "stream",
          "text": [
            "Drive already mounted at /content/drive; to attempt to forcibly remount, call drive.mount(\"/content/drive\", force_remount=True).\n"
          ]
        }
      ],
      "source": [
        "from google.colab import drive\n",
        "drive.mount('/content/drive')"
      ]
    },
    {
      "cell_type": "markdown",
      "metadata": {
        "id": "o8tz20Kpi2ux"
      },
      "source": [
        "# **Neural Network from Sratch**"
      ]
    },
    {
      "cell_type": "markdown",
      "metadata": {
        "id": "a5Kpfi6SkzkL"
      },
      "source": [
        "## **Importing Libraries**"
      ]
    },
    {
      "cell_type": "code",
      "execution_count": null,
      "metadata": {
        "id": "29-hFTUszca6"
      },
      "outputs": [],
      "source": [
        "import torch\n",
        "import pandas as pd\n",
        "from sklearn.model_selection import train_test_split\n",
        "from sklearn.preprocessing import StandardScaler\n",
        "import matplotlib.pyplot as plt"
      ]
    },
    {
      "cell_type": "code",
      "execution_count": null,
      "metadata": {
        "colab": {
          "base_uri": "https://localhost:8080/"
        },
        "id": "cfMpTyNOiCnk",
        "outputId": "e375a760-bdb5-444f-dcd9-fca290ec6222"
      },
      "outputs": [
        {
          "name": "stdout",
          "output_type": "stream",
          "text": [
            "Device: cuda\n"
          ]
        }
      ],
      "source": [
        "device = torch.device('cuda' if torch.cuda.is_available() else 'cpu')\n",
        "print(\"Device:\", device)"
      ]
    },
    {
      "cell_type": "markdown",
      "metadata": {
        "id": "wejWbqgzk8xy"
      },
      "source": [
        "## **Defining Classes**"
      ]
    },
    {
      "cell_type": "code",
      "execution_count": null,
      "metadata": {
        "id": "c0nrXzvHzekq"
      },
      "outputs": [],
      "source": [
        "class LinearLayer:\n",
        "    def __init__(self, input_size, output_size):\n",
        "        self.weights = torch.randn(input_size, output_size, requires_grad=True, device=device)\n",
        "        self.bias = torch.randn(output_size, requires_grad=True, device=device)\n",
        "\n",
        "    def forward(self, x):\n",
        "        return x @ self.weights + self.bias"
      ]
    },
    {
      "cell_type": "code",
      "execution_count": null,
      "metadata": {
        "id": "YEY4UuwFzgMD"
      },
      "outputs": [],
      "source": [
        "class NeuralNetwork:\n",
        "    def __init__(self, input_size, hidden_size1, hidden_size2, output_size):\n",
        "        self.fc1 = LinearLayer(input_size, hidden_size1)\n",
        "        self.fc2 = LinearLayer(hidden_size1, hidden_size2)\n",
        "        self.fc3 = LinearLayer(hidden_size2, output_size)\n",
        "\n",
        "    def forward(self, x):\n",
        "        x = self.relu(self.fc1.forward(x))\n",
        "        x = self.relu(self.fc2.forward(x))\n",
        "        x = self.fc3.forward(x)\n",
        "        return x\n",
        "\n",
        "    def predict(self, x):\n",
        "        with torch.no_grad():\n",
        "            return self.forward(x)\n",
        "\n",
        "    def relu(self, x):\n",
        "        return torch.maximum(torch.tensor(0.0, device=device), x)\n",
        "\n",
        "    def mse_loss(self, predictions, targets):\n",
        "        return ((predictions - targets) ** 2).mean()\n",
        "\n",
        "    def r2_score(self, predictions, targets):\n",
        "        ss_total = ((targets - targets.mean()) ** 2).sum()\n",
        "        ss_residual = ((targets - predictions) ** 2).sum()\n",
        "        r2 = 1 - (ss_residual / ss_total)\n",
        "        return r2"
      ]
    },
    {
      "cell_type": "markdown",
      "metadata": {
        "id": "wghQwS3klBID"
      },
      "source": [
        "## **Loading the Dataset and Preparing the Features and Target Variables**"
      ]
    },
    {
      "cell_type": "code",
      "execution_count": null,
      "metadata": {
        "id": "ram7kkFAzlyx"
      },
      "outputs": [],
      "source": [
        "df = pd.read_csv('/content/drive/MyDrive/california_housing_dataset.csv')"
      ]
    },
    {
      "cell_type": "code",
      "execution_count": null,
      "metadata": {
        "id": "DrAKSzHlrF8N"
      },
      "outputs": [],
      "source": [
        "df = df.drop(\"Unnamed: 0\", axis = 1)"
      ]
    },
    {
      "cell_type": "code",
      "execution_count": null,
      "metadata": {
        "id": "t_ZmbSQVzmaC"
      },
      "outputs": [],
      "source": [
        "X = df.drop(\"Target\", axis = 1)\n",
        "y = df[\"Target\"]"
      ]
    },
    {
      "cell_type": "code",
      "execution_count": null,
      "metadata": {
        "id": "4aYv-7-gzoCx"
      },
      "outputs": [],
      "source": [
        "scaler = StandardScaler()\n",
        "X = scaler.fit_transform(X)"
      ]
    },
    {
      "cell_type": "code",
      "execution_count": null,
      "metadata": {
        "id": "GOuP1iKwzpJ7"
      },
      "outputs": [],
      "source": [
        "X = torch.Tensor(X).to(device)\n",
        "y = torch.Tensor(y).view(-1, 1).to(device)"
      ]
    },
    {
      "cell_type": "code",
      "execution_count": null,
      "metadata": {
        "id": "GEF1uIypzrQr"
      },
      "outputs": [],
      "source": [
        "X_temp, X_test, y_temp, y_test = train_test_split(X, y, test_size=0.2, random_state=42)\n",
        "X_train, X_val, y_train, y_val = train_test_split(X_temp, y_temp, test_size=0.2, random_state=42)"
      ]
    },
    {
      "cell_type": "markdown",
      "metadata": {
        "id": "aPWeRncnlOpp"
      },
      "source": [
        "## **Define the Network Hyperparameters**"
      ]
    },
    {
      "cell_type": "code",
      "execution_count": null,
      "metadata": {
        "id": "s6HK8ZGoztQn"
      },
      "outputs": [],
      "source": [
        "input_size = X.shape[1]\n",
        "hidden_size1 = 5\n",
        "hidden_size2 = 5\n",
        "output_size = 1"
      ]
    },
    {
      "cell_type": "markdown",
      "metadata": {
        "id": "qd1ZmjrFlVUZ"
      },
      "source": [
        "## **Defining the Network**"
      ]
    },
    {
      "cell_type": "code",
      "execution_count": null,
      "metadata": {
        "id": "Xay9TRdWjqMl"
      },
      "outputs": [],
      "source": [
        "net = NeuralNetwork(input_size, hidden_size1, hidden_size2, output_size)"
      ]
    },
    {
      "cell_type": "markdown",
      "metadata": {
        "id": "HMW-ItNilcRc"
      },
      "source": [
        "## **Training Hyperparameters**"
      ]
    },
    {
      "cell_type": "code",
      "execution_count": null,
      "metadata": {
        "id": "WagkXL6qzv5X"
      },
      "outputs": [],
      "source": [
        "learning_rate = 0.02\n",
        "epochs = 100000"
      ]
    },
    {
      "cell_type": "markdown",
      "metadata": {
        "id": "GULV1NP4lfka"
      },
      "source": [
        "## **Training the Neural Network**"
      ]
    },
    {
      "cell_type": "code",
      "execution_count": null,
      "metadata": {
        "id": "fLSO8n9Qt7--"
      },
      "outputs": [],
      "source": [
        "train_losses = []\n",
        "val_losses = []\n",
        "train_r2_scores = []\n",
        "val_r2_scores = []"
      ]
    },
    {
      "cell_type": "code",
      "execution_count": null,
      "metadata": {
        "colab": {
          "base_uri": "https://localhost:8080/"
        },
        "id": "vBBSt5lMzwY3",
        "outputId": "9add3855-99b0-4597-8ad4-93035f23a1f6"
      },
      "outputs": [
        {
          "name": "stdout",
          "output_type": "stream",
          "text": [
            "Epoch 1/100000, Loss: 0.3084830641746521, R² (train): 0.7673313021659851, Val Loss: 0.33742645382881165, R² (val): 0.7554859519004822\n",
            "Epoch 1000/100000, Loss: 0.30845651030540466, R² (train): 0.7673513293266296, Val Loss: 0.3373726010322571, R² (val): 0.7555249929428101\n",
            "Epoch 2000/100000, Loss: 0.308433473110199, R² (train): 0.7673686742782593, Val Loss: 0.33733442425727844, R² (val): 0.7555526494979858\n",
            "Epoch 3000/100000, Loss: 0.30841484665870667, R² (train): 0.7673827409744263, Val Loss: 0.33730193972587585, R² (val): 0.7555761933326721\n",
            "Epoch 4000/100000, Loss: 0.3083855211734772, R² (train): 0.7674048542976379, Val Loss: 0.3371218144893646, R² (val): 0.7557066679000854\n",
            "Epoch 5000/100000, Loss: 0.30835938453674316, R² (train): 0.7674245834350586, Val Loss: 0.33709484338760376, R² (val): 0.7557262182235718\n",
            "Epoch 6000/100000, Loss: 0.30833700299263, R² (train): 0.76744145154953, Val Loss: 0.33704450726509094, R² (val): 0.7557626962661743\n",
            "Epoch 7000/100000, Loss: 0.3083156645298004, R² (train): 0.7674576044082642, Val Loss: 0.33700090646743774, R² (val): 0.7557942867279053\n",
            "Epoch 8000/100000, Loss: 0.30828893184661865, R² (train): 0.7674777507781982, Val Loss: 0.3370264768600464, R² (val): 0.7557757496833801\n",
            "Epoch 9000/100000, Loss: 0.308257520198822, R² (train): 0.7675014138221741, Val Loss: 0.3369563817977905, R² (val): 0.7558265924453735\n",
            "Epoch 10000/100000, Loss: 0.30822187662124634, R² (train): 0.7675282955169678, Val Loss: 0.33684059977531433, R² (val): 0.7559104561805725\n",
            "Epoch 11000/100000, Loss: 0.3081898093223572, R² (train): 0.7675524950027466, Val Loss: 0.33673951029777527, R² (val): 0.7559837102890015\n",
            "Epoch 12000/100000, Loss: 0.30816665291786194, R² (train): 0.7675699591636658, Val Loss: 0.3366701006889343, R² (val): 0.7560340166091919\n",
            "Epoch 13000/100000, Loss: 0.30814477801322937, R² (train): 0.7675864696502686, Val Loss: 0.3366217017173767, R² (val): 0.7560691237449646\n",
            "Epoch 14000/100000, Loss: 0.308122456073761, R² (train): 0.7676032781600952, Val Loss: 0.3365893065929413, R² (val): 0.7560925483703613\n",
            "Epoch 15000/100000, Loss: 0.3080978989601135, R² (train): 0.7676218152046204, Val Loss: 0.3365279734134674, R² (val): 0.7561370134353638\n",
            "Epoch 16000/100000, Loss: 0.30806660652160645, R² (train): 0.7676454186439514, Val Loss: 0.3367672562599182, R² (val): 0.7559636235237122\n",
            "Epoch 17000/100000, Loss: 0.3080414831638336, R² (train): 0.76766437292099, Val Loss: 0.3367515206336975, R² (val): 0.7559750080108643\n",
            "Epoch 18000/100000, Loss: 0.3080211579799652, R² (train): 0.7676796913146973, Val Loss: 0.3367256224155426, R² (val): 0.7559937834739685\n",
            "Epoch 19000/100000, Loss: 0.30800050497055054, R² (train): 0.7676952481269836, Val Loss: 0.33670395612716675, R² (val): 0.7560094594955444\n",
            "Epoch 20000/100000, Loss: 0.30797848105430603, R² (train): 0.767711877822876, Val Loss: 0.3366934657096863, R² (val): 0.7560170888900757\n",
            "Epoch 21000/100000, Loss: 0.3079541027545929, R² (train): 0.7677302360534668, Val Loss: 0.336669921875, R² (val): 0.7560341358184814\n",
            "Epoch 22000/100000, Loss: 0.3079288601875305, R² (train): 0.7677493095397949, Val Loss: 0.3366146385669708, R² (val): 0.7560741901397705\n",
            "Epoch 23000/100000, Loss: 0.307909220457077, R² (train): 0.7677640914916992, Val Loss: 0.33658140897750854, R² (val): 0.7560982704162598\n",
            "Epoch 24000/100000, Loss: 0.3078905940055847, R² (train): 0.7677781581878662, Val Loss: 0.3365689516067505, R² (val): 0.7561073303222656\n",
            "Epoch 25000/100000, Loss: 0.30786144733428955, R² (train): 0.7678001523017883, Val Loss: 0.3364322781562805, R² (val): 0.7562063336372375\n",
            "Epoch 26000/100000, Loss: 0.3078310191631317, R² (train): 0.7678231000900269, Val Loss: 0.3361688256263733, R² (val): 0.7563972473144531\n",
            "Epoch 27000/100000, Loss: 0.30779969692230225, R² (train): 0.7678467035293579, Val Loss: 0.33606433868408203, R² (val): 0.7564730048179626\n",
            "Epoch 28000/100000, Loss: 0.30777621269226074, R² (train): 0.767864465713501, Val Loss: 0.33600613474845886, R² (val): 0.7565151453018188\n",
            "Epoch 29000/100000, Loss: 0.3077552616596222, R² (train): 0.7678802609443665, Val Loss: 0.3359852433204651, R² (val): 0.7565302848815918\n",
            "Epoch 30000/100000, Loss: 0.30773675441741943, R² (train): 0.7678942084312439, Val Loss: 0.3359560966491699, R² (val): 0.7565514445304871\n",
            "Epoch 31000/100000, Loss: 0.30771005153656006, R² (train): 0.767914354801178, Val Loss: 0.33594444394111633, R² (val): 0.7565598487854004\n",
            "Epoch 32000/100000, Loss: 0.30768340826034546, R² (train): 0.7679344415664673, Val Loss: 0.33597901463508606, R² (val): 0.7565348148345947\n",
            "Epoch 33000/100000, Loss: 0.30766361951828003, R² (train): 0.7679493427276611, Val Loss: 0.33596447110176086, R² (val): 0.75654536485672\n",
            "Epoch 34000/100000, Loss: 0.3076474964618683, R² (train): 0.7679615020751953, Val Loss: 0.33594608306884766, R² (val): 0.7565586566925049\n",
            "Epoch 35000/100000, Loss: 0.30763331055641174, R² (train): 0.7679722309112549, Val Loss: 0.33599644899368286, R² (val): 0.7565221786499023\n",
            "Epoch 36000/100000, Loss: 0.30762147903442383, R² (train): 0.7679811716079712, Val Loss: 0.3360195755958557, R² (val): 0.7565054297447205\n",
            "Epoch 37000/100000, Loss: 0.30761316418647766, R² (train): 0.7679873704910278, Val Loss: 0.3360433876514435, R² (val): 0.7564882040023804\n",
            "Epoch 38000/100000, Loss: 0.30759915709495544, R² (train): 0.7679979801177979, Val Loss: 0.33612021803855896, R² (val): 0.7564324736595154\n",
            "Epoch 39000/100000, Loss: 0.3075890839099884, R² (train): 0.7680056095123291, Val Loss: 0.33612072467803955, R² (val): 0.7564321160316467\n",
            "Epoch 40000/100000, Loss: 0.30758166313171387, R² (train): 0.7680111527442932, Val Loss: 0.3361077904701233, R² (val): 0.7564414739608765\n",
            "Epoch 41000/100000, Loss: 0.3075733780860901, R² (train): 0.7680174112319946, Val Loss: 0.33611416816711426, R² (val): 0.7564368844032288\n",
            "Epoch 42000/100000, Loss: 0.3075621724128723, R² (train): 0.7680258750915527, Val Loss: 0.3360983729362488, R² (val): 0.7564483284950256\n",
            "Epoch 43000/100000, Loss: 0.3075512647628784, R² (train): 0.7680341005325317, Val Loss: 0.3361069858074188, R² (val): 0.7564420700073242\n",
            "Epoch 44000/100000, Loss: 0.307540625333786, R² (train): 0.7680420875549316, Val Loss: 0.33611372113227844, R² (val): 0.7564371824264526\n",
            "Epoch 45000/100000, Loss: 0.3075304329395294, R² (train): 0.7680498361587524, Val Loss: 0.3361063599586487, R² (val): 0.7564425468444824\n",
            "Epoch 46000/100000, Loss: 0.3075192868709564, R² (train): 0.7680582404136658, Val Loss: 0.3360813856124878, R² (val): 0.7564606666564941\n",
            "Epoch 47000/100000, Loss: 0.30750754475593567, R² (train): 0.7680670619010925, Val Loss: 0.33606216311454773, R² (val): 0.7564745545387268\n",
            "Epoch 48000/100000, Loss: 0.30749550461769104, R² (train): 0.7680761814117432, Val Loss: 0.33607232570648193, R² (val): 0.7564672231674194\n",
            "Epoch 49000/100000, Loss: 0.3074600100517273, R² (train): 0.7681029438972473, Val Loss: 0.3360986113548279, R² (val): 0.7564481496810913\n",
            "Epoch 50000/100000, Loss: 0.30743321776390076, R² (train): 0.7681231498718262, Val Loss: 0.33609408140182495, R² (val): 0.756451427936554\n",
            "Epoch 51000/100000, Loss: 0.3073996901512146, R² (train): 0.7681484222412109, Val Loss: 0.33609795570373535, R² (val): 0.7564486265182495\n",
            "Epoch 52000/100000, Loss: 0.30735331773757935, R² (train): 0.7681834101676941, Val Loss: 0.33609187602996826, R² (val): 0.7564530372619629\n",
            "Epoch 53000/100000, Loss: 0.3073146641254425, R² (train): 0.7682125568389893, Val Loss: 0.33608168363571167, R² (val): 0.756460428237915\n",
            "Epoch 54000/100000, Loss: 0.3072919547557831, R² (train): 0.7682297229766846, Val Loss: 0.3360651433467865, R² (val): 0.7564724087715149\n",
            "Epoch 55000/100000, Loss: 0.3072704076766968, R² (train): 0.7682459354400635, Val Loss: 0.33603954315185547, R² (val): 0.75649094581604\n",
            "Epoch 56000/100000, Loss: 0.3072454035282135, R² (train): 0.7682647705078125, Val Loss: 0.3360164165496826, R² (val): 0.7565077543258667\n",
            "Epoch 57000/100000, Loss: 0.3072211444377899, R² (train): 0.7682830691337585, Val Loss: 0.3360118865966797, R² (val): 0.7565109729766846\n",
            "Epoch 58000/100000, Loss: 0.30719637870788574, R² (train): 0.768301784992218, Val Loss: 0.3360084295272827, R² (val): 0.7565134763717651\n",
            "Epoch 59000/100000, Loss: 0.3071785271167755, R² (train): 0.7683152556419373, Val Loss: 0.33595964312553406, R² (val): 0.7565488815307617\n",
            "Epoch 60000/100000, Loss: 0.3071604073047638, R² (train): 0.7683289051055908, Val Loss: 0.33596211671829224, R² (val): 0.7565470933914185\n",
            "Epoch 61000/100000, Loss: 0.3071329891681671, R² (train): 0.7683495879173279, Val Loss: 0.33593764901161194, R² (val): 0.7565647959709167\n",
            "Epoch 62000/100000, Loss: 0.3071017265319824, R² (train): 0.7683731317520142, Val Loss: 0.3358871042728424, R² (val): 0.7566014528274536\n",
            "Epoch 63000/100000, Loss: 0.3070608079433441, R² (train): 0.7684040069580078, Val Loss: 0.3356558084487915, R² (val): 0.7567690014839172\n",
            "Epoch 64000/100000, Loss: 0.3070377707481384, R² (train): 0.7684214115142822, Val Loss: 0.335544615983963, R² (val): 0.7568495869636536\n",
            "Epoch 65000/100000, Loss: 0.30702489614486694, R² (train): 0.7684310674667358, Val Loss: 0.3355083167552948, R² (val): 0.7568758726119995\n",
            "Epoch 66000/100000, Loss: 0.30701589584350586, R² (train): 0.768437922000885, Val Loss: 0.3354779779911041, R² (val): 0.7568979263305664\n",
            "Epoch 67000/100000, Loss: 0.307005912065506, R² (train): 0.7684454321861267, Val Loss: 0.33543461561203003, R² (val): 0.7569292783737183\n",
            "Epoch 68000/100000, Loss: 0.3069952130317688, R² (train): 0.7684534788131714, Val Loss: 0.3354378342628479, R² (val): 0.7569270133972168\n",
            "Epoch 69000/100000, Loss: 0.3069838285446167, R² (train): 0.768462061882019, Val Loss: 0.3354738652706146, R² (val): 0.7569008469581604\n",
            "Epoch 70000/100000, Loss: 0.30696916580200195, R² (train): 0.7684731483459473, Val Loss: 0.335582971572876, R² (val): 0.7568218111991882\n",
            "Epoch 71000/100000, Loss: 0.3069536089897156, R² (train): 0.7684848308563232, Val Loss: 0.33565184473991394, R² (val): 0.7567719221115112\n",
            "Epoch 72000/100000, Loss: 0.30694177746772766, R² (train): 0.7684937715530396, Val Loss: 0.33567848801612854, R² (val): 0.756752610206604\n",
            "Epoch 73000/100000, Loss: 0.3069315552711487, R² (train): 0.7685015201568604, Val Loss: 0.3356977105140686, R² (val): 0.7567386627197266\n",
            "Epoch 74000/100000, Loss: 0.3069247901439667, R² (train): 0.768506646156311, Val Loss: 0.3356976807117462, R² (val): 0.7567386627197266\n",
            "Epoch 75000/100000, Loss: 0.3069189488887787, R² (train): 0.7685109972953796, Val Loss: 0.33568182587623596, R² (val): 0.7567501664161682\n",
            "Epoch 76000/100000, Loss: 0.30691394209861755, R² (train): 0.7685147523880005, Val Loss: 0.33567360043525696, R² (val): 0.7567561268806458\n",
            "Epoch 77000/100000, Loss: 0.30690962076187134, R² (train): 0.7685180306434631, Val Loss: 0.335673451423645, R² (val): 0.7567562460899353\n",
            "Epoch 78000/100000, Loss: 0.3069056272506714, R² (train): 0.7685210704803467, Val Loss: 0.335674524307251, R² (val): 0.7567554712295532\n",
            "Epoch 79000/100000, Loss: 0.3069019317626953, R² (train): 0.7685238122940063, Val Loss: 0.3356761038303375, R² (val): 0.7567543387413025\n",
            "Epoch 80000/100000, Loss: 0.3068983256816864, R² (train): 0.768526554107666, Val Loss: 0.3356836140155792, R² (val): 0.7567489147186279\n",
            "Epoch 81000/100000, Loss: 0.3068944811820984, R² (train): 0.76852947473526, Val Loss: 0.3356858491897583, R² (val): 0.7567472457885742\n",
            "Epoch 82000/100000, Loss: 0.3068886399269104, R² (train): 0.7685338854789734, Val Loss: 0.33564671874046326, R² (val): 0.7567756175994873\n",
            "Epoch 83000/100000, Loss: 0.3068845570087433, R² (train): 0.7685369253158569, Val Loss: 0.33565545082092285, R² (val): 0.7567692995071411\n",
            "Epoch 84000/100000, Loss: 0.3068806231021881, R² (train): 0.7685399055480957, Val Loss: 0.335669606924057, R² (val): 0.7567590475082397\n",
            "Epoch 85000/100000, Loss: 0.30687710642814636, R² (train): 0.7685425877571106, Val Loss: 0.3356642425060272, R² (val): 0.7567629218101501\n",
            "Epoch 86000/100000, Loss: 0.3068738877773285, R² (train): 0.7685450315475464, Val Loss: 0.335661381483078, R² (val): 0.7567650079727173\n",
            "Epoch 87000/100000, Loss: 0.3068706691265106, R² (train): 0.7685474157333374, Val Loss: 0.33565816283226013, R² (val): 0.7567672729492188\n",
            "Epoch 88000/100000, Loss: 0.3068675994873047, R² (train): 0.7685497403144836, Val Loss: 0.3356699049472809, R² (val): 0.7567588090896606\n",
            "Epoch 89000/100000, Loss: 0.306863397359848, R² (train): 0.7685528993606567, Val Loss: 0.33566030859947205, R² (val): 0.7567657232284546\n",
            "Epoch 90000/100000, Loss: 0.30686041712760925, R² (train): 0.7685551643371582, Val Loss: 0.33565986156463623, R² (val): 0.7567660808563232\n",
            "Epoch 91000/100000, Loss: 0.3068576753139496, R² (train): 0.7685572504997253, Val Loss: 0.3356536030769348, R² (val): 0.7567706108093262\n",
            "Epoch 92000/100000, Loss: 0.3068549633026123, R² (train): 0.7685592770576477, Val Loss: 0.3356601297855377, R² (val): 0.7567659020423889\n",
            "Epoch 93000/100000, Loss: 0.30685198307037354, R² (train): 0.7685615420341492, Val Loss: 0.33567124605178833, R² (val): 0.7567578554153442\n",
            "Epoch 94000/100000, Loss: 0.3068489730358124, R² (train): 0.7685637474060059, Val Loss: 0.33567458391189575, R² (val): 0.7567554116249084\n",
            "Epoch 95000/100000, Loss: 0.3068462014198303, R² (train): 0.7685658931732178, Val Loss: 0.33568137884140015, R² (val): 0.7567504644393921\n",
            "Epoch 96000/100000, Loss: 0.30684351921081543, R² (train): 0.7685679197311401, Val Loss: 0.3356802463531494, R² (val): 0.756751298904419\n",
            "Epoch 97000/100000, Loss: 0.3068406581878662, R² (train): 0.768570065498352, Val Loss: 0.3356674015522003, R² (val): 0.7567605972290039\n",
            "Epoch 98000/100000, Loss: 0.30683764815330505, R² (train): 0.7685723304748535, Val Loss: 0.335658460855484, R² (val): 0.7567670941352844\n",
            "Epoch 99000/100000, Loss: 0.3068346083164215, R² (train): 0.768574595451355, Val Loss: 0.3356531858444214, R² (val): 0.75677090883255\n",
            "Epoch 100000/100000, Loss: 0.3068311810493469, R² (train): 0.7685772180557251, Val Loss: 0.3356185853481293, R² (val): 0.7567960023880005\n"
          ]
        }
      ],
      "source": [
        "for epoch in range(epochs):\n",
        "    y_pred_train = net.forward(X_train)\n",
        "    loss = net.mse_loss(y_pred_train, y_train)\n",
        "    loss.backward()\n",
        "\n",
        "    with torch.no_grad():\n",
        "        net.fc1.weights -= learning_rate * net.fc1.weights.grad\n",
        "        net.fc1.bias -= learning_rate * net.fc1.bias.grad\n",
        "        net.fc2.weights -= learning_rate * net.fc2.weights.grad\n",
        "        net.fc2.bias -= learning_rate * net.fc2.bias.grad\n",
        "        net.fc3.weights -= learning_rate * net.fc3.weights.grad\n",
        "        net.fc3.bias -= learning_rate * net.fc3.bias.grad\n",
        "\n",
        "        net.fc1.weights.grad.zero_()\n",
        "        net.fc1.bias.grad.zero_()\n",
        "        net.fc2.weights.grad.zero_()\n",
        "        net.fc2.bias.grad.zero_()\n",
        "        net.fc3.weights.grad.zero_()\n",
        "        net.fc3.bias.grad.zero_()\n",
        "\n",
        "    r2_train = net.r2_score(y_pred_train, y_train)\n",
        "    y_pred_val = net.forward(X_val)\n",
        "    val_loss = net.mse_loss(y_pred_val, y_val)\n",
        "    r2_val = net.r2_score(y_pred_val, y_val)\n",
        "\n",
        "    if (epoch+1) % 1000 == 0 or epoch == 0:\n",
        "        print(f'Epoch {epoch+1}/{epochs}, Loss: {loss.item()}, R² (train): {r2_train.item()}, Val Loss: {val_loss.item()}, R² (val): {r2_val.item()}')\n",
        "\n",
        "    train_losses.append(loss.item())\n",
        "    val_losses.append(val_loss.item())\n",
        "    train_r2_scores.append(r2_train.item())\n",
        "    val_r2_scores.append(r2_val.item())"
      ]
    },
    {
      "cell_type": "markdown",
      "metadata": {
        "id": "mq-QPdK-ljrt"
      },
      "source": [
        "## **Evaluating the Model's Performance**"
      ]
    },
    {
      "cell_type": "code",
      "execution_count": null,
      "metadata": {
        "colab": {
          "base_uri": "https://localhost:8080/"
        },
        "id": "WysaTWhsz__K",
        "outputId": "971144b3-6d71-4f57-e289-21f74b73a585"
      },
      "outputs": [
        {
          "name": "stdout",
          "output_type": "stream",
          "text": [
            "Train Loss: 0.3068311810493469\n",
            "Train R² score: 0.7685772180557251\n"
          ]
        }
      ],
      "source": [
        "y_pred_train = net.predict(X_train)\n",
        "train_r2 = net.r2_score(y_pred_train, y_train)\n",
        "train_loss = net.mse_loss(y_pred_train, y_train)\n",
        "print(\"Train Loss:\", train_loss.item())\n",
        "print(\"Train R² score:\", train_r2.item())"
      ]
    },
    {
      "cell_type": "code",
      "execution_count": null,
      "metadata": {
        "colab": {
          "base_uri": "https://localhost:8080/"
        },
        "id": "miW2y2NLhEn2",
        "outputId": "4f61f571-27dc-4d6d-8459-9ac3ac2b053b"
      },
      "outputs": [
        {
          "name": "stdout",
          "output_type": "stream",
          "text": [
            "Validation Loss: 0.3356185853481293\n",
            "Validation R² score: 0.7567960023880005\n"
          ]
        }
      ],
      "source": [
        "y_pred_val = net.predict(X_val)\n",
        "val_r2 = net.r2_score(y_pred_val, y_val)\n",
        "val_loss = net.mse_loss(y_pred_val, y_val)\n",
        "print(\"Validation Loss:\", val_loss.item())\n",
        "print(\"Validation R² score:\", val_r2.item())"
      ]
    },
    {
      "cell_type": "code",
      "execution_count": null,
      "metadata": {
        "colab": {
          "base_uri": "https://localhost:8080/"
        },
        "id": "239V1UeIt8gQ",
        "outputId": "c1969f18-266e-413c-e88b-6c9e9d597985"
      },
      "outputs": [
        {
          "name": "stdout",
          "output_type": "stream",
          "text": [
            "Test Loss: 0.3188648223876953\n",
            "Test R² score: 0.7566677331924438\n"
          ]
        }
      ],
      "source": [
        "y_pred_test = net.predict(X_test)\n",
        "test_r2 = net.r2_score(y_pred_test, y_test)\n",
        "test_loss = net.mse_loss(y_pred_test, y_test)\n",
        "print(\"Test Loss:\", test_loss.item())\n",
        "print(\"Test R² score:\", test_r2.item())"
      ]
    },
    {
      "cell_type": "markdown",
      "metadata": {
        "id": "MoKt5NvquE_7"
      },
      "source": [
        "## **Plotting the Learning Curve**"
      ]
    },
    {
      "cell_type": "code",
      "execution_count": null,
      "metadata": {
        "colab": {
          "base_uri": "https://localhost:8080/",
          "height": 507
        },
        "id": "7vk_vvBwuITx",
        "outputId": "bae946fc-b9f8-466c-b722-e9a4697a75c1"
      },
      "outputs": [
        {
          "data": {
            "image/png": "[encoded data removed]",
            "text/plain": [
              "<Figure size 1200x500 with 2 Axes>"
            ]
          },
          "metadata": {},
          "output_type": "display_data"
        }
      ],
      "source": [
        "plt.figure(figsize=(12, 5))\n",
        "\n",
        "plt.subplot(1, 2, 1)\n",
        "plt.plot(range(1, len(train_losses) + 1), train_losses, label='Train Loss')\n",
        "plt.plot(range(1, len(val_losses) + 1), val_losses, label='Validation Loss')\n",
        "plt.xlabel('Epochs')\n",
        "plt.ylabel('Loss')\n",
        "plt.title('Loss vs. Epochs')\n",
        "plt.legend()\n",
        "\n",
        "plt.subplot(1, 2, 2)\n",
        "plt.plot(range(1, len(train_r2_scores) + 1), train_r2_scores, label='Train R²')\n",
        "plt.plot(range(1, len(val_r2_scores) + 1), val_r2_scores, label='Validation R²')\n",
        "plt.xlabel('Epochs')\n",
        "plt.ylabel('R² Score')\n",
        "plt.title('R² Score vs. Epochs')\n",
        "plt.legend()\n",
        "\n",
        "plt.tight_layout()\n",
        "plt.show()"
      ]
    },
    {
      "cell_type": "markdown",
      "metadata": {
        "id": "IsQtp-GIiF9s"
      },
      "source": [
        "# **Neural Network using torch.nn**"
      ]
    },
    {
      "cell_type": "markdown",
      "metadata": {
        "id": "C1ZHoCY8lwWV"
      },
      "source": [
        "## **Importing Libraries**"
      ]
    },
    {
      "cell_type": "code",
      "execution_count": null,
      "metadata": {
        "id": "2WQoUzzvhugE"
      },
      "outputs": [],
      "source": [
        "import torch.nn as nn\n",
        "import torch.optim as optim"
      ]
    },
    {
      "cell_type": "markdown",
      "metadata": {
        "id": "vWpF1PC-ly5O"
      },
      "source": [
        "## **Defining Classes**"
      ]
    },
    {
      "cell_type": "code",
      "execution_count": null,
      "metadata": {
        "id": "rmYQWHophyDD"
      },
      "outputs": [],
      "source": [
        "class NeuralNetworkNN(nn.Module):\n",
        "    def __init__(self, input_size, hidden_size1, hidden_size2, output_size):\n",
        "        super(NeuralNetworkNN, self).__init__()\n",
        "        self.fc1 = nn.Linear(input_size, hidden_size1)\n",
        "        self.fc2 = nn.Linear(hidden_size1, hidden_size2)\n",
        "        self.fc3 = nn.Linear(hidden_size2, output_size)\n",
        "        self.relu = nn.ReLU()\n",
        "\n",
        "    def forward(self, x):\n",
        "        x = self.relu(self.fc1(x))\n",
        "        x = self.relu(self.fc2(x))\n",
        "        x = self.fc3(x)\n",
        "        return x"
      ]
    },
    {
      "cell_type": "markdown",
      "metadata": {
        "id": "TybaThOQl3Y1"
      },
      "source": [
        "## **Defining the Network**"
      ]
    },
    {
      "cell_type": "code",
      "execution_count": null,
      "metadata": {
        "id": "T2eKByb_hywd"
      },
      "outputs": [],
      "source": [
        "net_nn = NeuralNetworkNN(input_size, hidden_size1, hidden_size2, output_size).to(device)"
      ]
    },
    {
      "cell_type": "markdown",
      "metadata": {
        "id": "CgrHgPrdl9Bz"
      },
      "source": [
        "## **Defining the Loss Function and the Optimizer**"
      ]
    },
    {
      "cell_type": "code",
      "execution_count": null,
      "metadata": {
        "id": "Bn-ZFKI4h3K0"
      },
      "outputs": [],
      "source": [
        "criterion = nn.MSELoss()\n",
        "optimizer = optim.SGD(net_nn.parameters(), lr=learning_rate)"
      ]
    },
    {
      "cell_type": "markdown",
      "metadata": {
        "id": "DLK3LUctmB39"
      },
      "source": [
        "## **Training the Neural Network**"
      ]
    },
    {
      "cell_type": "code",
      "execution_count": null,
      "metadata": {
        "id": "qT-bJKmXuUVX"
      },
      "outputs": [],
      "source": [
        "train_losses_nn = []\n",
        "val_losses_nn = []\n",
        "train_r2_scores_nn = []\n",
        "val_r2_scores_nn = []"
      ]
    },
    {
      "cell_type": "code",
      "execution_count": null,
      "metadata": {
        "colab": {
          "base_uri": "https://localhost:8080/"
        },
        "id": "vj_ifryCh41w",
        "outputId": "357e9641-9a6d-4355-8c79-1e11d63a317b"
      },
      "outputs": [
        {
          "name": "stdout",
          "output_type": "stream",
          "text": [
            "Epoch 1/100000, Loss: 0.40399590134620667, R² (train): 0.6953035593032837, Val Loss: 0.43790918588638306, R² (val): 0.6826717257499695\n",
            "Epoch 1000/100000, Loss: 0.3896428644657135, R² (train): 0.7061260342597961, Val Loss: 0.42515429854393005, R² (val): 0.691914439201355\n",
            "Epoch 2000/100000, Loss: 0.3811844289302826, R² (train): 0.7125027775764465, Val Loss: 0.4170152544975281, R² (val): 0.6978123784065247\n",
            "Epoch 3000/100000, Loss: 0.37446674704551697, R² (train): 0.7175688147544861, Val Loss: 0.40943920612335205, R² (val): 0.7033023238182068\n",
            "Epoch 4000/100000, Loss: 0.36808133125305176, R² (train): 0.7223849296569824, Val Loss: 0.4042280614376068, R² (val): 0.7070785760879517\n",
            "Epoch 5000/100000, Loss: 0.36219483613967896, R² (train): 0.7268246412277222, Val Loss: 0.3982240557670593, R² (val): 0.7114292979240417\n",
            "Epoch 6000/100000, Loss: 0.3565867841243744, R² (train): 0.7310535907745361, Val Loss: 0.3929307758808136, R² (val): 0.7152650356292725\n",
            "Epoch 7000/100000, Loss: 0.352580189704895, R² (train): 0.7340757846832275, Val Loss: 0.38913723826408386, R² (val): 0.7180140018463135\n",
            "Epoch 8000/100000, Loss: 0.3497617542743683, R² (train): 0.7361992597579956, Val Loss: 0.38674959540367126, R² (val): 0.7197442054748535\n",
            "Epoch 9000/100000, Loss: 0.3480086922645569, R² (train): 0.7375212907791138, Val Loss: 0.38517114520072937, R² (val): 0.7208880186080933\n",
            "Epoch 10000/100000, Loss: 0.34679239988327026, R² (train): 0.7384374737739563, Val Loss: 0.3843967616558075, R² (val): 0.7214491963386536\n",
            "Epoch 11000/100000, Loss: 0.34519368410110474, R² (train): 0.73964524269104, Val Loss: 0.381574422121048, R² (val): 0.7234944105148315\n",
            "Epoch 12000/100000, Loss: 0.34288397431373596, R² (train): 0.7413856983184814, Val Loss: 0.3808763027191162, R² (val): 0.7240002751350403\n",
            "Epoch 13000/100000, Loss: 0.34170809388160706, R² (train): 0.742272138595581, Val Loss: 0.3788323402404785, R² (val): 0.725481390953064\n",
            "Epoch 14000/100000, Loss: 0.3406381607055664, R² (train): 0.743079662322998, Val Loss: 0.37768206000328064, R² (val): 0.726314902305603\n",
            "Epoch 15000/100000, Loss: 0.33986347913742065, R² (train): 0.7436635494232178, Val Loss: 0.37806767225265503, R² (val): 0.726035475730896\n",
            "Epoch 16000/100000, Loss: 0.33940067887306213, R² (train): 0.7440124750137329, Val Loss: 0.37795016169548035, R² (val): 0.7261207103729248\n",
            "Epoch 17000/100000, Loss: 0.3390581011772156, R² (train): 0.7442708015441895, Val Loss: 0.37777775526046753, R² (val): 0.726245641708374\n",
            "Epoch 18000/100000, Loss: 0.3387228548526764, R² (train): 0.7445236444473267, Val Loss: 0.3775360584259033, R² (val): 0.7264207601547241\n",
            "Epoch 19000/100000, Loss: 0.33834224939346313, R² (train): 0.7448108196258545, Val Loss: 0.37717485427856445, R² (val): 0.7266824841499329\n",
            "Epoch 20000/100000, Loss: 0.33783072233200073, R² (train): 0.7451967000961304, Val Loss: 0.37676766514778137, R² (val): 0.7269775867462158\n",
            "Epoch 21000/100000, Loss: 0.33711275458335876, R² (train): 0.7457385063171387, Val Loss: 0.3758787214756012, R² (val): 0.7276217341423035\n",
            "Epoch 22000/100000, Loss: 0.3357023298740387, R² (train): 0.7468029260635376, Val Loss: 0.3746550381183624, R² (val): 0.728508472442627\n",
            "Epoch 23000/100000, Loss: 0.33269745111465454, R² (train): 0.7490712404251099, Val Loss: 0.37020087242126465, R² (val): 0.7317361831665039\n",
            "Epoch 24000/100000, Loss: 0.3277272880077362, R² (train): 0.752820611000061, Val Loss: 0.3631184995174408, R² (val): 0.7368683815002441\n",
            "Epoch 25000/100000, Loss: 0.32340750098228455, R² (train): 0.7560768723487854, Val Loss: 0.3578687012195587, R² (val): 0.7406725883483887\n",
            "Epoch 26000/100000, Loss: 0.3209933340549469, R² (train): 0.757897138595581, Val Loss: 0.3540082573890686, R² (val): 0.7434700131416321\n",
            "Epoch 27000/100000, Loss: 0.3191261291503906, R² (train): 0.7593043446540833, Val Loss: 0.351760596036911, R² (val): 0.7450988292694092\n",
            "Epoch 28000/100000, Loss: 0.31794992089271545, R² (train): 0.7601922154426575, Val Loss: 0.3506027162075043, R² (val): 0.7459378242492676\n",
            "Epoch 29000/100000, Loss: 0.31723010540008545, R² (train): 0.7607337236404419, Val Loss: 0.3500693440437317, R² (val): 0.7463243007659912\n",
            "Epoch 30000/100000, Loss: 0.31672975420951843, R² (train): 0.761111855506897, Val Loss: 0.3498854339122772, R² (val): 0.746457576751709\n",
            "Epoch 31000/100000, Loss: 0.3162977695465088, R² (train): 0.7614375948905945, Val Loss: 0.3496807813644409, R² (val): 0.7466058731079102\n",
            "Epoch 32000/100000, Loss: 0.31595438718795776, R² (train): 0.7616983652114868, Val Loss: 0.34951069951057434, R² (val): 0.7467291355133057\n",
            "Epoch 33000/100000, Loss: 0.3156659007072449, R² (train): 0.7619149684906006, Val Loss: 0.34942710399627686, R² (val): 0.7467897534370422\n",
            "Epoch 34000/100000, Loss: 0.3152855932712555, R² (train): 0.7622017860412598, Val Loss: 0.34913063049316406, R² (val): 0.7470045685768127\n",
            "Epoch 35000/100000, Loss: 0.31483012437820435, R² (train): 0.7625430822372437, Val Loss: 0.35080236196517944, R² (val): 0.7457931637763977\n",
            "Epoch 36000/100000, Loss: 0.3145338296890259, R² (train): 0.7627678513526917, Val Loss: 0.35063648223876953, R² (val): 0.7459133863449097\n",
            "Epoch 37000/100000, Loss: 0.3142983317375183, R² (train): 0.7629446387290955, Val Loss: 0.3503967821598053, R² (val): 0.7460870742797852\n",
            "Epoch 38000/100000, Loss: 0.31407180428504944, R² (train): 0.7631168365478516, Val Loss: 0.3500525653362274, R² (val): 0.7463364601135254\n",
            "Epoch 39000/100000, Loss: 0.31383565068244934, R² (train): 0.763293445110321, Val Loss: 0.3501147925853729, R² (val): 0.7462913990020752\n",
            "Epoch 40000/100000, Loss: 0.3136358857154846, R² (train): 0.7634460926055908, Val Loss: 0.3500960171222687, R² (val): 0.746304988861084\n",
            "Epoch 41000/100000, Loss: 0.31347283720970154, R² (train): 0.7635684013366699, Val Loss: 0.3500707745552063, R² (val): 0.74632328748703\n",
            "Epoch 42000/100000, Loss: 0.31335270404815674, R² (train): 0.7636582255363464, Val Loss: 0.3499045968055725, R² (val): 0.7464437484741211\n",
            "Epoch 43000/100000, Loss: 0.313241183757782, R² (train): 0.7637430429458618, Val Loss: 0.3496626615524292, R² (val): 0.7466190457344055\n",
            "Epoch 44000/100000, Loss: 0.31313392519950867, R² (train): 0.7638230919837952, Val Loss: 0.3494326174259186, R² (val): 0.7467857599258423\n",
            "Epoch 45000/100000, Loss: 0.31304001808166504, R² (train): 0.7638946771621704, Val Loss: 0.34927159547805786, R² (val): 0.7469024658203125\n",
            "Epoch 46000/100000, Loss: 0.31294041872024536, R² (train): 0.7639686465263367, Val Loss: 0.3490942120552063, R² (val): 0.7470309734344482\n",
            "Epoch 47000/100000, Loss: 0.31279540061950684, R² (train): 0.7640781998634338, Val Loss: 0.34922102093696594, R² (val): 0.7469390630722046\n",
            "Epoch 48000/100000, Loss: 0.3126419484615326, R² (train): 0.7641936540603638, Val Loss: 0.3493499457836151, R² (val): 0.7468456625938416\n",
            "Epoch 49000/100000, Loss: 0.3125292956829071, R² (train): 0.7642787098884583, Val Loss: 0.3492157757282257, R² (val): 0.7469428777694702\n",
            "Epoch 50000/100000, Loss: 0.31243154406547546, R² (train): 0.7643540501594543, Val Loss: 0.3489881455898285, R² (val): 0.7471078038215637\n",
            "Epoch 51000/100000, Loss: 0.31234481930732727, R² (train): 0.7644180655479431, Val Loss: 0.34892868995666504, R² (val): 0.7471508979797363\n",
            "Epoch 52000/100000, Loss: 0.3122657239437103, R² (train): 0.7644786238670349, Val Loss: 0.34885174036026, R² (val): 0.7472066879272461\n",
            "Epoch 53000/100000, Loss: 0.3122018575668335, R² (train): 0.7645260691642761, Val Loss: 0.3487709164619446, R² (val): 0.7472652196884155\n",
            "Epoch 54000/100000, Loss: 0.3121506869792938, R² (train): 0.7645650506019592, Val Loss: 0.34862005710601807, R² (val): 0.7473745346069336\n",
            "Epoch 55000/100000, Loss: 0.3121023178100586, R² (train): 0.7646012306213379, Val Loss: 0.3485490679740906, R² (val): 0.7474260330200195\n",
            "Epoch 56000/100000, Loss: 0.3120567202568054, R² (train): 0.7646364569664001, Val Loss: 0.3484252691268921, R² (val): 0.7475156784057617\n",
            "Epoch 57000/100000, Loss: 0.31201449036598206, R² (train): 0.7646678686141968, Val Loss: 0.348356157541275, R² (val): 0.7475658059120178\n",
            "Epoch 58000/100000, Loss: 0.311978816986084, R² (train): 0.7646937370300293, Val Loss: 0.3482273519039154, R² (val): 0.7476590871810913\n",
            "Epoch 59000/100000, Loss: 0.3119446337223053, R² (train): 0.7647197246551514, Val Loss: 0.34810176491737366, R² (val): 0.7477501630783081\n",
            "Epoch 60000/100000, Loss: 0.3119148015975952, R² (train): 0.7647427320480347, Val Loss: 0.34798628091812134, R² (val): 0.7478338479995728\n",
            "Epoch 61000/100000, Loss: 0.3118860125541687, R² (train): 0.7647650241851807, Val Loss: 0.3479629456996918, R² (val): 0.7478507161140442\n",
            "Epoch 62000/100000, Loss: 0.31186071038246155, R² (train): 0.7647846937179565, Val Loss: 0.34792590141296387, R² (val): 0.7478775978088379\n",
            "Epoch 63000/100000, Loss: 0.31183379888534546, R² (train): 0.7648033499717712, Val Loss: 0.34786850214004517, R² (val): 0.7479192018508911\n",
            "Epoch 64000/100000, Loss: 0.3118053376674652, R² (train): 0.764826238155365, Val Loss: 0.34776613116264343, R² (val): 0.7479933500289917\n",
            "Epoch 65000/100000, Loss: 0.31177207827568054, R² (train): 0.7648496627807617, Val Loss: 0.3476922810077667, R² (val): 0.748046875\n",
            "Epoch 66000/100000, Loss: 0.31174421310424805, R² (train): 0.7648720741271973, Val Loss: 0.3476100564002991, R² (val): 0.7481064796447754\n",
            "Epoch 67000/100000, Loss: 0.31171730160713196, R² (train): 0.7648928761482239, Val Loss: 0.34756845235824585, R² (val): 0.7481366395950317\n",
            "Epoch 68000/100000, Loss: 0.3116912245750427, R² (train): 0.7649120092391968, Val Loss: 0.3475148379802704, R² (val): 0.7481754422187805\n",
            "Epoch 69000/100000, Loss: 0.31166866421699524, R² (train): 0.7649292945861816, Val Loss: 0.3474297821521759, R² (val): 0.748237133026123\n",
            "Epoch 70000/100000, Loss: 0.3116452991962433, R² (train): 0.7649468183517456, Val Loss: 0.3473508358001709, R² (val): 0.7482942938804626\n",
            "Epoch 71000/100000, Loss: 0.3116205334663391, R² (train): 0.7649646997451782, Val Loss: 0.34726881980895996, R² (val): 0.7483537197113037\n",
            "Epoch 72000/100000, Loss: 0.31159818172454834, R² (train): 0.7649809122085571, Val Loss: 0.34717151522636414, R² (val): 0.748424232006073\n",
            "Epoch 73000/100000, Loss: 0.31157824397087097, R² (train): 0.7649969458580017, Val Loss: 0.34710460901260376, R² (val): 0.7484726905822754\n",
            "Epoch 74000/100000, Loss: 0.31155723333358765, R² (train): 0.7650132775306702, Val Loss: 0.3470437228679657, R² (val): 0.748516857624054\n",
            "Epoch 75000/100000, Loss: 0.31153663992881775, R² (train): 0.7650288343429565, Val Loss: 0.346948504447937, R² (val): 0.7485858201980591\n",
            "Epoch 76000/100000, Loss: 0.3114682137966156, R² (train): 0.765080451965332, Val Loss: 0.34669333696365356, R² (val): 0.7487707138061523\n",
            "Epoch 77000/100000, Loss: 0.3114441931247711, R² (train): 0.7650985717773438, Val Loss: 0.34664642810821533, R² (val): 0.7488047480583191\n",
            "Epoch 78000/100000, Loss: 0.311424195766449, R² (train): 0.7651138305664062, Val Loss: 0.3466055989265442, R² (val): 0.7488343715667725\n",
            "Epoch 79000/100000, Loss: 0.3114023506641388, R² (train): 0.765129566192627, Val Loss: 0.3465915322303772, R² (val): 0.7488445043563843\n",
            "Epoch 80000/100000, Loss: 0.31137728691101074, R² (train): 0.7651487588882446, Val Loss: 0.34654921293258667, R² (val): 0.7488751411437988\n",
            "Epoch 81000/100000, Loss: 0.3113586902618408, R² (train): 0.7651627063751221, Val Loss: 0.34652793407440186, R² (val): 0.7488906383514404\n",
            "Epoch 82000/100000, Loss: 0.31134098768234253, R² (train): 0.765175461769104, Val Loss: 0.3465542495250702, R² (val): 0.7488715648651123\n",
            "Epoch 83000/100000, Loss: 0.3113228380680084, R² (train): 0.7651889324188232, Val Loss: 0.3465353548526764, R² (val): 0.7488852143287659\n",
            "Epoch 84000/100000, Loss: 0.3112986087799072, R² (train): 0.7652071714401245, Val Loss: 0.3465259075164795, R² (val): 0.748892068862915\n",
            "Epoch 85000/100000, Loss: 0.3112780749797821, R² (train): 0.7652223110198975, Val Loss: 0.346516877412796, R² (val): 0.7488986253738403\n",
            "Epoch 86000/100000, Loss: 0.3112607002258301, R² (train): 0.765236496925354, Val Loss: 0.3464924693107605, R² (val): 0.7489162683486938\n",
            "Epoch 87000/100000, Loss: 0.3112476170063019, R² (train): 0.765246570110321, Val Loss: 0.3464326560497284, R² (val): 0.7489596605300903\n",
            "Epoch 88000/100000, Loss: 0.3112339973449707, R² (train): 0.7652556300163269, Val Loss: 0.34636732935905457, R² (val): 0.749006986618042\n",
            "Epoch 89000/100000, Loss: 0.31122276186943054, R² (train): 0.7652655839920044, Val Loss: 0.34628286957740784, R² (val): 0.7490681409835815\n",
            "Epoch 90000/100000, Loss: 0.3112089931964874, R² (train): 0.7652749419212341, Val Loss: 0.3462061285972595, R² (val): 0.7491238117218018\n",
            "Epoch 91000/100000, Loss: 0.31119754910469055, R² (train): 0.765284538269043, Val Loss: 0.34616726636886597, R² (val): 0.7491519451141357\n",
            "Epoch 92000/100000, Loss: 0.31118470430374146, R² (train): 0.765293300151825, Val Loss: 0.3461092710494995, R² (val): 0.7491939663887024\n",
            "Epoch 93000/100000, Loss: 0.311174601316452, R² (train): 0.7653020024299622, Val Loss: 0.3460750877857208, R² (val): 0.7492187023162842\n",
            "Epoch 94000/100000, Loss: 0.31116288900375366, R² (train): 0.7653100490570068, Val Loss: 0.3460328280925751, R² (val): 0.7492493391036987\n",
            "Epoch 95000/100000, Loss: 0.31115415692329407, R² (train): 0.7653167247772217, Val Loss: 0.3459811806678772, R² (val): 0.7492867708206177\n",
            "Epoch 96000/100000, Loss: 0.31114497780799866, R² (train): 0.765324056148529, Val Loss: 0.34595203399658203, R² (val): 0.7493079304695129\n",
            "Epoch 97000/100000, Loss: 0.31113603711128235, R² (train): 0.7653293013572693, Val Loss: 0.3459290862083435, R² (val): 0.7493245601654053\n",
            "Epoch 98000/100000, Loss: 0.31112921237945557, R² (train): 0.7653354406356812, Val Loss: 0.3458840548992157, R² (val): 0.7493571639060974\n",
            "Epoch 99000/100000, Loss: 0.31112250685691833, R² (train): 0.7653411626815796, Val Loss: 0.34590449929237366, R² (val): 0.7493423223495483\n",
            "Epoch 100000/100000, Loss: 0.3111151158809662, R² (train): 0.765346109867096, Val Loss: 0.34586721658706665, R² (val): 0.7493693828582764\n"
          ]
        }
      ],
      "source": [
        "for epoch in range(epochs):\n",
        "        net_nn.train()\n",
        "        optimizer.zero_grad()\n",
        "        y_pred_train_nn = net_nn(X_train)\n",
        "        loss_nn = criterion(y_pred_train_nn, y_train)\n",
        "        loss_nn.backward()\n",
        "        optimizer.step()\n",
        "\n",
        "\n",
        "        net_nn.eval()\n",
        "        with torch.no_grad():\n",
        "            y_pred_train_nn = net_nn(X_train)\n",
        "            r2_train_nn = 1 - torch.sum((y_train - y_pred_train_nn) ** 2) / torch.sum((y_train - torch.mean(y_train)) ** 2)\n",
        "            y_pred_val_nn = net_nn(X_val)\n",
        "            val_loss_nn = criterion(y_pred_val_nn, y_val)\n",
        "            r2_val_nn = 1 - torch.sum((y_val - y_pred_val_nn) ** 2) / torch.sum((y_val - torch.mean(y_val)) ** 2)\n",
        "\n",
        "            if (epoch + 1) % 1000 == 0 or epoch == 0:\n",
        "                print(f'Epoch {epoch+1}/{epochs}, Loss: {loss_nn.item()}, R² (train): {r2_train_nn.item()}, Val Loss: {val_loss_nn.item()}, R² (val): {r2_val_nn.item()}')\n",
        "\n",
        "            train_losses_nn.append(loss_nn.item())\n",
        "            val_losses_nn.append(val_loss_nn.item())\n",
        "            train_r2_scores_nn.append(r2_train_nn.item())\n",
        "            val_r2_scores_nn.append(r2_val_nn.item())"
      ]
    },
    {
      "cell_type": "markdown",
      "metadata": {
        "id": "AiwS2CuImFDo"
      },
      "source": [
        "## **Evaluating the Model's Performance**"
      ]
    },
    {
      "cell_type": "code",
      "execution_count": null,
      "metadata": {
        "colab": {
          "base_uri": "https://localhost:8080/"
        },
        "id": "QQdYJQSeh8P2",
        "outputId": "bb0bf761-706e-4556-b610-60741c64e524"
      },
      "outputs": [
        {
          "name": "stdout",
          "output_type": "stream",
          "text": [
            "Train Loss: 0.3111151158809662\n",
            "Train R² score: 0.765346109867096\n"
          ]
        }
      ],
      "source": [
        "net_nn.eval()\n",
        "with torch.no_grad():\n",
        "    y_pred_train_nn = net_nn(X_train)\n",
        "    train_loss_nn = criterion(y_pred_train_nn, y_train)\n",
        "    train_r2_nn = 1 - torch.sum((y_train - y_pred_train_nn) ** 2) / torch.sum((y_train - torch.mean(y_train)) ** 2)\n",
        "    print(\"Train Loss:\", train_loss_nn.item())\n",
        "    print(\"Train R² score:\", train_r2_nn.item())"
      ]
    },
    {
      "cell_type": "code",
      "execution_count": null,
      "metadata": {
        "colab": {
          "base_uri": "https://localhost:8080/"
        },
        "id": "3Q8hPT4NhfUe",
        "outputId": "b6c46a39-c44c-4a6e-82fa-103418419ba3"
      },
      "outputs": [
        {
          "name": "stdout",
          "output_type": "stream",
          "text": [
            "Validation Loss: 0.34586721658706665\n",
            "Validation R² score: 0.7493693828582764\n"
          ]
        }
      ],
      "source": [
        "net_nn.eval()\n",
        "with torch.no_grad():\n",
        "    y_pred_val_nn = net_nn(X_val)\n",
        "    val_loss_nn = criterion(y_pred_val_nn, y_val)\n",
        "    val_r2_nn = 1 - torch.sum((y_val - y_pred_val_nn) ** 2) / torch.sum((y_val - torch.mean(y_val)) ** 2)\n",
        "    print(\"Validation Loss:\", val_loss_nn.item())\n",
        "    print(\"Validation R² score:\", val_r2_nn.item())"
      ]
    },
    {
      "cell_type": "code",
      "execution_count": null,
      "metadata": {
        "colab": {
          "base_uri": "https://localhost:8080/"
        },
        "id": "gkWqIfLjhDwb",
        "outputId": "b1595160-24a6-4d49-f517-6661a415cede"
      },
      "outputs": [
        {
          "name": "stdout",
          "output_type": "stream",
          "text": [
            "Test Loss: 0.3279517590999603\n",
            "Test R² score: 0.7497332692146301\n"
          ]
        }
      ],
      "source": [
        "with torch.no_grad():\n",
        "    y_pred_test_nn = net_nn(X_test)\n",
        "    test_loss_nn = criterion(y_pred_test_nn, y_test)\n",
        "    test_r2_nn = 1 - torch.sum((y_test - y_pred_test_nn) ** 2) / torch.sum((y_test - torch.mean(y_test)) ** 2)\n",
        "    print(\"Test Loss:\", test_loss_nn.item())\n",
        "    print(\"Test R² score:\", test_r2_nn.item())"
      ]
    },
    {
      "cell_type": "markdown",
      "metadata": {
        "id": "YGmPd_3vutME"
      },
      "source": [
        "## **Plotting the Learning Curve**"
      ]
    },
    {
      "cell_type": "code",
      "execution_count": null,
      "metadata": {
        "colab": {
          "base_uri": "https://localhost:8080/",
          "height": 507
        },
        "id": "dkskX5Xqurue",
        "outputId": "0ea75b7b-c0f6-4272-e3b1-c3f0b2690836"
      },
      "outputs": [
        {
          "data": {
            "image/png": "[encoded data removed]",
            "text/plain": [
              "<Figure size 1200x500 with 2 Axes>"
            ]
          },
          "metadata": {},
          "output_type": "display_data"
        }
      ],
      "source": [
        "plt.figure(figsize=(12, 5))\n",
        "\n",
        "plt.subplot(1, 2, 1)\n",
        "plt.plot(range(1, len(train_losses_nn) + 1), train_losses_nn, label='Train Loss')\n",
        "plt.plot(range(1, len(val_losses_nn) + 1), val_losses_nn, label='Validation Loss')\n",
        "plt.xlabel('Epochs')\n",
        "plt.ylabel('Loss')\n",
        "plt.title('Loss vs. Epochs')\n",
        "plt.legend()\n",
        "\n",
        "plt.subplot(1, 2, 2)\n",
        "plt.plot(range(1, len(train_r2_scores_nn) + 1), train_r2_scores_nn, label='Train R²')\n",
        "plt.plot(range(1, len(val_r2_scores_nn) + 1), val_r2_scores_nn, label='Validation R²')\n",
        "plt.xlabel('Epochs')\n",
        "plt.ylabel('R² Score')\n",
        "plt.title('R² Score vs. Epochs')\n",
        "plt.legend()\n",
        "\n",
        "plt.tight_layout()\n",
        "plt.show()"
      ]
    }
  ],
  "metadata": {
    "accelerator": "GPU",
    "colab": {
      "collapsed_sections": [
        "o8tz20Kpi2ux",
        "a5Kpfi6SkzkL",
        "wejWbqgzk8xy",
        "wghQwS3klBID",
        "aPWeRncnlOpp",
        "qd1ZmjrFlVUZ",
        "HMW-ItNilcRc",
        "GULV1NP4lfka",
        "mq-QPdK-ljrt",
        "MoKt5NvquE_7",
        "IsQtp-GIiF9s",
        "C1ZHoCY8lwWV",
        "vWpF1PC-ly5O",
        "TybaThOQl3Y1",
        "CgrHgPrdl9Bz",
        "DLK3LUctmB39",
        "AiwS2CuImFDo",
        "YGmPd_3vutME"
      ],
      "gpuType": "T4",
      "provenance": []
    },
    "kernelspec": {
      "display_name": "Python 3",
      "name": "python3"
    },
    "language_info": {
      "name": "python"
    }
  },
  "nbformat": 4,
  "nbformat_minor": 0
}
