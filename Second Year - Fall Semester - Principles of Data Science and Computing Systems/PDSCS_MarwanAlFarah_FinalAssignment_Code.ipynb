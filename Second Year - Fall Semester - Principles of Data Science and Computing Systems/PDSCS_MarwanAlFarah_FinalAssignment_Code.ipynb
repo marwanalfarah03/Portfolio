{
  "nbformat": 4,
  "nbformat_minor": 0,
  "metadata": {
    "colab": {
      "provenance": [],
      "collapsed_sections": [
        "ygxI5f54n6oF",
        "muggfaItn95y",
        "zYC8u9jaLeCh",
        "QGg0Sl-TLkKn",
        "OaYGb3PRuQm4",
        "6mN9pd4auXc6",
        "lAXtpiz-Pq0c",
        "2sNJi0mKP25L",
        "jb6WZ5U6P4jj",
        "exuiKYokP6uS",
        "c-Rh4p6EP_3W",
        "O5lj5yTmQyKs",
        "fmdOI3aNlHLT",
        "3LhtGhLzFkag",
        "L_MP_otdS6Fz",
        "MbNvi7qDS-eR",
        "SuFyx_9sYMwh",
        "8qOWxhKWTEHK",
        "c12y1OqaVyLL",
        "R_BwtxrUV794",
        "sZmC3W-caL9v",
        "HJ-5UxXfgdRs",
        "NtopYP14lo8M",
        "XIY8kbfplv6I",
        "0S6mJyHKlzJU"
      ]
    },
    "kernelspec": {
      "name": "python3",
      "display_name": "Python 3"
    },
    "language_info": {
      "name": "python"
    }
  },
  "cells": [
    {
      "cell_type": "markdown",
      "source": [
        "<br>\n",
        "\n",
        "<center><img src=\"https://www.htu.edu.jo/images/ThumbnailsCoverPhotos/HTU%20Logo-250px.png\" alt=\"HTU\"  width=\"180px\" align=\"center\"> \n",
        "\n",
        "\n",
        "<br>\n",
        "\n",
        "<p> \n",
        "\n",
        "**Principles of Data Science and Computing Systems**\n",
        "\n",
        "10204280\n",
        "\n",
        "Section (3)\n",
        "\n",
        "**Application of Data Science Life Cycle**\n",
        "\n",
        "**Submitted to**\n",
        "\n",
        "Dr. Murad Yaghi\n",
        "\n",
        "**Submitted on**\n",
        "\n",
        "January 30th, 2023\n",
        "\n",
        "**Submitted by**\n",
        "\n",
        "Marwan Tareq Shafiq Al Farah\n",
        "\n",
        "**Student ID**\n",
        "\n",
        "21110011\n",
        "\n",
        "Fall 2022 – 2023\n",
        "</p></center>"
      ],
      "metadata": {
        "id": "vRK8uC6Hl6Rq"
      }
    },
    {
      "cell_type": "markdown",
      "source": [
        "# **Libraries**"
      ],
      "metadata": {
        "id": "ygxI5f54n6oF"
      }
    },
    {
      "cell_type": "code",
      "execution_count": 1,
      "metadata": {
        "id": "-mWBrYAEIzAy"
      },
      "outputs": [],
      "source": [
        "import numpy as np\n",
        "import pandas as pd\n",
        "from sklearn.metrics import r2_score, mean_squared_error, mean_absolute_error, accuracy_score,precision_score, recall_score, f1_score\n",
        "from scipy.spatial import distance\n",
        "from sklearn.model_selection import train_test_split\n",
        "from sklearn.ensemble import RandomForestClassifier\n",
        "import matplotlib.pyplot as plt"
      ]
    },
    {
      "cell_type": "markdown",
      "source": [
        "# **Classes**"
      ],
      "metadata": {
        "id": "muggfaItn95y"
      }
    },
    {
      "cell_type": "markdown",
      "source": [
        "## Multiple Linear Regression with Gradient Descent Class"
      ],
      "metadata": {
        "id": "zYC8u9jaLeCh"
      }
    },
    {
      "cell_type": "code",
      "source": [
        "class SGDRegressor:\n",
        "  def _init_(self):\n",
        "      self.theta = None\n",
        "\n",
        "  def fit(self, X_train, y_train, theta, alpha, iters):\n",
        "      self.theta = theta\n",
        "      cost_array = np.zeros(iters)\n",
        "      m = y_train.size\n",
        "      for i in range(iters):\n",
        "          error = np.dot(X_train, self.theta.T) - y_train\n",
        "          cost = 1/(2*m) * np.dot(error.T, error)\n",
        "          self.theta = self.theta - (alpha * (1/m) * np.dot(X_train.T, error))\n",
        "          cost_array[i] = cost\n",
        "          if i == 0:\n",
        "            min = cost\n",
        "            theta_min = self.theta.copy()\n",
        "          if cost < min:\n",
        "            min = cost\n",
        "            theta_min = self.theta.copy()\n",
        "      self.theta = theta_min\n",
        "      return cost_array, iters\n",
        "\n",
        "  def predict(self, X_test):\n",
        "        y_pred = np.dot(X_test, self.theta)\n",
        "        return y_pred\n",
        "\n",
        "  def evaluation(self, norm, y_test, y_pred):\n",
        "      print('Multiple Linear Regression with Gradient Descent ' + norm + ' Normalization:')\n",
        "      print('Accuracy of the model is: ', r2_score(y_test,y_pred))\n",
        "      print('Mean Squared Error:', mean_squared_error(y_test,y_pred))\n",
        "      print('Root Mean Squared Error:', np.sqrt(mean_squared_error(y_test,y_pred)))\n",
        "      print('Mean Absolute Error:', mean_absolute_error(y_test,y_pred))"
      ],
      "metadata": {
        "id": "q6x21XIXLW6z"
      },
      "execution_count": 2,
      "outputs": []
    },
    {
      "cell_type": "markdown",
      "source": [
        "## K-Nearest Neigbours Class"
      ],
      "metadata": {
        "id": "QGg0Sl-TLkKn"
      }
    },
    {
      "cell_type": "code",
      "source": [
        "class KNeighborsClassifier:\n",
        "    def __init__(self):\n",
        "        self.k = 13\n",
        "\n",
        "    def fit(self, X_train, y_train):\n",
        "        self.X_train = X_train\n",
        "        self.y_train = y_train\n",
        "\n",
        "    def predict(self, X_test):\n",
        "        predictions = []\n",
        "        for i in range(X_test.shape[0]):\n",
        "            distances = np.linalg.norm(self.X_train - X_test.iloc[i], axis=1)\n",
        "            nearest_neighbor_ids = distances.argsort()[:self.k]\n",
        "            nearest_neighbor_rings = self.y_train.iloc[nearest_neighbor_ids]\n",
        "            predictions.append(nearest_neighbor_rings.mode()[0])\n",
        "            \n",
        "        return predictions\n",
        "\n",
        "    def evaluation(self, norm, y_test, y_pred):\n",
        "        print('K-Nearest Neigbours ' + norm +' Normalization:')\n",
        "        print(\"Accuracy: \",accuracy_score(y_test,y_pred))\n",
        "        print(\"Precision: \",precision_score(y_test,y_pred, average = 'macro'))\n",
        "        print(\"Recall: \",recall_score(y_test,y_pred, average = 'macro'))\n",
        "        print(\"F1_score: \",f1_score(y_test,y_pred, average = 'macro'))"
      ],
      "metadata": {
        "id": "1_ptmqBELaPW"
      },
      "execution_count": 3,
      "outputs": []
    },
    {
      "cell_type": "markdown",
      "source": [
        "## MinMaxScaler Class"
      ],
      "metadata": {
        "id": "OaYGb3PRuQm4"
      }
    },
    {
      "cell_type": "code",
      "source": [
        "class MinMaxScaler:\n",
        "    def __init__(self, feature_range=(0, 1)):\n",
        "        self.feature_range = feature_range\n",
        "\n",
        "    def fit(self, X):\n",
        "        self.min = X.min(axis=0)\n",
        "        self.scale = (X.max(axis=0) - X.min(axis=0)) / (self.feature_range[1] - self.feature_range[0])\n",
        "\n",
        "    def transform(self, X):\n",
        "        return (X - self.min) / self.scale\n",
        "\n",
        "    def fit_transform(self, X):\n",
        "        self.fit(X)\n",
        "        return self.transform(X)"
      ],
      "metadata": {
        "id": "D1SGPB4Pq_qm"
      },
      "execution_count": 4,
      "outputs": []
    },
    {
      "cell_type": "markdown",
      "source": [
        "## StandardScaler Class"
      ],
      "metadata": {
        "id": "6mN9pd4auXc6"
      }
    },
    {
      "cell_type": "code",
      "source": [
        "class StandardScaler:\n",
        "    def __init__(self):\n",
        "        self.mean = None\n",
        "        self.std = None\n",
        "\n",
        "    def fit(self, X):\n",
        "        self.mean = np.mean(X, axis=0)\n",
        "        self.std = np.std(X, axis=0)\n",
        "\n",
        "    def transform(self, X):\n",
        "        return (X - self.mean) / self.std\n",
        "\n",
        "    def fit_transform(self, X):\n",
        "        self.fit(X)\n",
        "        return self.transform(X)"
      ],
      "metadata": {
        "id": "WK2a6AFtrURD"
      },
      "execution_count": 5,
      "outputs": []
    },
    {
      "cell_type": "markdown",
      "source": [
        "# **Data Loading**"
      ],
      "metadata": {
        "id": "lAXtpiz-Pq0c"
      }
    },
    {
      "cell_type": "code",
      "source": [
        "df1 = pd.read_csv(\"/content/dataset.csv\")"
      ],
      "metadata": {
        "id": "D5VhaiWhJCb8"
      },
      "execution_count": 6,
      "outputs": []
    },
    {
      "cell_type": "markdown",
      "source": [
        "# **Data Preprocessing**"
      ],
      "metadata": {
        "id": "2sNJi0mKP25L"
      }
    },
    {
      "cell_type": "markdown",
      "source": [
        "## drop()"
      ],
      "metadata": {
        "id": "jb6WZ5U6P4jj"
      }
    },
    {
      "cell_type": "code",
      "source": [
        "df1 = df1.drop(['I_MRP_JD'], axis=1)"
      ],
      "metadata": {
        "id": "gbte-MHyJQEP"
      },
      "execution_count": 7,
      "outputs": []
    },
    {
      "cell_type": "markdown",
      "source": [
        "## I_Fat_C"
      ],
      "metadata": {
        "id": "exuiKYokP6uS"
      }
    },
    {
      "cell_type": "code",
      "source": [
        "df1['I_Fat_C'] = df1['I_Fat_C'].replace({'LF': 'Low Fat', 'reg': 'Regular'})"
      ],
      "metadata": {
        "id": "eYXlFUR8JpeE"
      },
      "execution_count": 8,
      "outputs": []
    },
    {
      "cell_type": "markdown",
      "source": [
        "## I_W"
      ],
      "metadata": {
        "id": "c-Rh4p6EP_3W"
      }
    },
    {
      "cell_type": "code",
      "source": [
        "df1.loc[df1['I_W'].notnull(), 'I_W'] = df1.groupby('I_Id')['I_W'].transform('first')\n",
        "df1['I_W'].fillna(df1['I_W'].mean(), inplace = True)"
      ],
      "metadata": {
        "id": "jtjDWHYkLNYS"
      },
      "execution_count": 9,
      "outputs": []
    },
    {
      "cell_type": "markdown",
      "source": [
        "## O_Size"
      ],
      "metadata": {
        "id": "O5lj5yTmQyKs"
      }
    },
    {
      "cell_type": "code",
      "source": [
        "df1.to_csv('non-numeric1.csv', index=False)\n",
        "cat_columns = df1.select_dtypes(['object']).columns.drop('O_Size')\n",
        "df1[cat_columns] = df1[cat_columns].apply(lambda x: pd.factorize(x)[0])\n",
        "X = df1[df1['O_Size'].notnull()].drop([\"O_Size\"], axis=1)\n",
        "y = df1[df1['O_Size'].notnull()][\"O_Size\"]\n",
        "X_train, X_test, y_train, y_test = train_test_split(X, y, test_size=0.2,random_state=0)\n",
        "classiferRF = RandomForestClassifier()\n",
        "classiferRF = classiferRF.fit(X_train,y_train)\n",
        "df2 = df1[df1['O_Size'].isnull()].copy()\n",
        "df2['O_Size'] = classiferRF.predict(df2.drop([\"O_Size\"], axis=1))\n",
        "df3 = pd.read_csv(\"/content/non-numeric1.csv\")\n",
        "df3[\"O_Size\"] = pd.concat([df2, df1[df1['O_Size'].notnull()]]).sort_index()['O_Size']\n",
        "df3.to_csv('non-numeric2.csv', index=False)"
      ],
      "metadata": {
        "id": "Z4ghbtTTSedL"
      },
      "execution_count": 10,
      "outputs": []
    },
    {
      "cell_type": "markdown",
      "source": [
        "# **Modeling**"
      ],
      "metadata": {
        "id": "fmdOI3aNlHLT"
      }
    },
    {
      "cell_type": "markdown",
      "source": [
        "## **SGDRegressor**"
      ],
      "metadata": {
        "id": "3LhtGhLzFkag"
      }
    },
    {
      "cell_type": "code",
      "source": [
        "dfSGD  = pd.read_csv('/content/non-numeric2.csv')\n",
        "cat_columns = dfSGD.select_dtypes(['object']).columns\n",
        "dfSGD[cat_columns] = dfSGD[cat_columns].apply(lambda x: pd.factorize(x)[0])"
      ],
      "metadata": {
        "id": "ola1fIBHdd_O"
      },
      "execution_count": 11,
      "outputs": []
    },
    {
      "cell_type": "markdown",
      "source": [
        "### Min Max Normalization"
      ],
      "metadata": {
        "id": "L_MP_otdS6Fz"
      }
    },
    {
      "cell_type": "code",
      "source": [
        "min_max_scaler_SGD = MinMaxScaler()\n",
        "dfSGD_min_max = pd.DataFrame(min_max_scaler_SGD.fit_transform(dfSGD), index = dfSGD.index, columns = dfSGD.columns)\n",
        "X_SGD_min_max = dfSGD_min_max.drop([\"I_O_Sales\"], axis=1)\n",
        "X_SGD_min_max = np.c_[np.ones(X_SGD_min_max.shape[0]), X_SGD_min_max]\n",
        "y_SGD_min_max = dfSGD_min_max[\"I_O_Sales\"]\n",
        "X_train_SGD_min_max, X_test_SGD_min_max, y_train_SGD_min_max, y_test_SGD_min_max = train_test_split(X_SGD_min_max, y_SGD_min_max, test_size=0.2,random_state=0)"
      ],
      "metadata": {
        "id": "352hZ1ptRM-m"
      },
      "execution_count": 12,
      "outputs": []
    },
    {
      "cell_type": "code",
      "source": [
        "regressorSGD_min_max = SGDRegressor()\n",
        "cost_array_min_max, iters_min_max = regressorSGD_min_max.fit(X_train_SGD_min_max, y_train_SGD_min_max, np.array([0]*X_train_SGD_min_max[1]), 0.125, 10000)\n",
        "y_pred_SGD_min_max = regressorSGD_min_max.predict(X_test_SGD_min_max)\n",
        "regressorSGD_min_max.evaluation(\"Min Max\", y_test_SGD_min_max, y_pred_SGD_min_max)"
      ],
      "metadata": {
        "colab": {
          "base_uri": "https://localhost:8080/"
        },
        "id": "FnZSWAR5Skxn",
        "outputId": "34242a11-da2f-4f57-eb70-61f206526567"
      },
      "execution_count": 13,
      "outputs": [
        {
          "output_type": "stream",
          "name": "stdout",
          "text": [
            "Multiple Linear Regression with Gradient Descent Min Max Normalization:\n",
            "Accuracy of the model is:  0.39264766690421404\n",
            "Mean Squared Error: 0.010432226173145088\n",
            "Root Mean Squared Error: 0.1021382698754247\n",
            "Mean Absolute Error: 0.0771574371082237\n"
          ]
        }
      ]
    },
    {
      "cell_type": "markdown",
      "source": [
        "### Z-score Normalization"
      ],
      "metadata": {
        "id": "MbNvi7qDS-eR"
      }
    },
    {
      "cell_type": "code",
      "source": [
        "standard_scaler_SGD = StandardScaler()\n",
        "dfSGD_z_score  = pd.DataFrame(standard_scaler_SGD.fit_transform(dfSGD), index = dfSGD.index, columns = dfSGD.columns)\n",
        "X_SGD_z_score = dfSGD_z_score.drop([\"I_O_Sales\"], axis=1)\n",
        "X_SGD_z_score = np.c_[np.ones(X_SGD_z_score.shape[0]), X_SGD_z_score]\n",
        "y_SGD_z_score = dfSGD_z_score[\"I_O_Sales\"]\n",
        "X_train_SGD_z_score, X_test_SGD_z_score, y_train_SGD_z_score, y_test_SGD_z_score = train_test_split(X_SGD_z_score, y_SGD_z_score, test_size=0.2,random_state=0)"
      ],
      "metadata": {
        "id": "V_T6IzgeQSwl"
      },
      "execution_count": 14,
      "outputs": []
    },
    {
      "cell_type": "code",
      "source": [
        "regressorSGD_z_score = SGDRegressor()\n",
        "cost_array_z_score, iters_z_score = regressorSGD_z_score.fit(X_train_SGD_z_score, y_train_SGD_z_score, np.array([0]*X_train_SGD_z_score[1]), 0.125, 10000)\n",
        "y_pred_SGD_z_score = regressorSGD_z_score.predict(X_test_SGD_z_score)\n",
        "regressorSGD_z_score.evaluation(\"Z-score\", y_test_SGD_z_score, y_pred_SGD_z_score)"
      ],
      "metadata": {
        "id": "YUW6FKOZlf-N",
        "colab": {
          "base_uri": "https://localhost:8080/"
        },
        "outputId": "5c92828b-d1a8-4e50-cd8c-b3332d29fc83"
      },
      "execution_count": 15,
      "outputs": [
        {
          "output_type": "stream",
          "name": "stdout",
          "text": [
            "Multiple Linear Regression with Gradient Descent Z-score Normalization:\n",
            "Accuracy of the model is:  0.3926486346150069\n",
            "Mean Squared Error: 0.6104926635826023\n",
            "Root Mean Squared Error: 0.7813402994743086\n",
            "Mean Absolute Error: 0.590267189125531\n"
          ]
        }
      ]
    },
    {
      "cell_type": "markdown",
      "source": [
        "### Without Normalization"
      ],
      "metadata": {
        "id": "SuFyx_9sYMwh"
      }
    },
    {
      "cell_type": "code",
      "source": [
        "X_SGD_WN = dfSGD.drop([\"I_O_Sales\"], axis=1)\n",
        "X_SGD_WN = np.c_[np.ones(X_SGD_WN.shape[0]), X_SGD_WN]\n",
        "y_SGD_WN = dfSGD[\"I_O_Sales\"]\n",
        "X_train_SGD_WN, X_test_SGD_WN, y_train_SGD_WN, y_test_SGD_WN = train_test_split(X_SGD_WN, y_SGD_WN, test_size=0.2,random_state=0)"
      ],
      "metadata": {
        "id": "cwi7RstTYMfw"
      },
      "execution_count": 16,
      "outputs": []
    },
    {
      "cell_type": "code",
      "source": [
        "regressorSGD_WN = SGDRegressor()\n",
        "cost_array_WN, iters_WN = regressorSGD_WN.fit(X_train_SGD_WN, y_train_SGD_WN, np.array([0]*X_train_SGD_WN[1]), 0.125, 10000)\n",
        "y_pred_SGD_WN = regressorSGD_WN.predict(X_test_SGD_WN)\n",
        "regressorSGD_WN.evaluation(\"Without\", y_test_SGD_WN, y_pred_SGD_WN)"
      ],
      "metadata": {
        "id": "Drf0vvnZYMXS",
        "colab": {
          "base_uri": "https://localhost:8080/"
        },
        "outputId": "f563f259-34d8-427a-eded-82a203366fef"
      },
      "execution_count": 17,
      "outputs": [
        {
          "output_type": "stream",
          "name": "stdout",
          "text": [
            "Multiple Linear Regression with Gradient Descent Without Normalization:\n",
            "Accuracy of the model is:  -640209388860.781\n",
            "Mean Squared Error: 1.8738029015895035e+18\n",
            "Root Mean Squared Error: 1368869205.4354584\n",
            "Mean Absolute Error: 1365399045.652846\n"
          ]
        }
      ]
    },
    {
      "cell_type": "markdown",
      "source": [
        "## **KNeighborsClassifier**"
      ],
      "metadata": {
        "id": "8qOWxhKWTEHK"
      }
    },
    {
      "cell_type": "code",
      "source": [
        "dfKNN = pd.read_csv(\"/content/non-numeric2.csv\")\n",
        "cat_columns = dfKNN.select_dtypes(['object']).columns\n",
        "dfKNN[cat_columns] = dfKNN[cat_columns].apply(lambda x: pd.factorize(x)[0])\n",
        "X_KNN = dfKNN.drop([\"O_T\"], axis=1)\n",
        "y_KNN = dfKNN[\"O_T\"]"
      ],
      "metadata": {
        "id": "TNmxhsA_1IV7"
      },
      "execution_count": 18,
      "outputs": []
    },
    {
      "cell_type": "markdown",
      "source": [
        "### Min Max Normalization"
      ],
      "metadata": {
        "id": "c12y1OqaVyLL"
      }
    },
    {
      "cell_type": "code",
      "source": [
        "min_max_scaler_KNN = MinMaxScaler()\n",
        "X_KNN_min_max = pd.DataFrame(min_max_scaler_KNN.fit_transform(X_KNN), index = X_KNN.index, columns = X_KNN.columns)\n",
        "X_train_KNN_min_max, X_test_KNN_min_max, y_train_KNN_min_max, y_test_KNN_min_max = train_test_split(X_KNN_min_max, y_KNN, test_size=0.2,random_state=0)"
      ],
      "metadata": {
        "id": "hFlf2XTMTuYb"
      },
      "execution_count": 19,
      "outputs": []
    },
    {
      "cell_type": "code",
      "source": [
        "classifierKNN_min_max = KNeighborsClassifier()\n",
        "classifierKNN_min_max.fit(X_train_KNN_min_max, y_train_KNN_min_max)\n",
        "y_pred_KNN_min_max = classifierKNN_min_max.predict(X_test_KNN_min_max)\n",
        "classifierKNN_min_max.evaluation(\"Min Max\", y_test_KNN_min_max, y_pred_KNN_min_max)"
      ],
      "metadata": {
        "id": "rCLT3T16Eeko",
        "colab": {
          "base_uri": "https://localhost:8080/"
        },
        "outputId": "1851cb63-e735-4812-a575-ef843015c04b"
      },
      "execution_count": 20,
      "outputs": [
        {
          "output_type": "stream",
          "name": "stdout",
          "text": [
            "K-Nearest Neigbours Min Max Normalization:\n",
            "Accuracy:  1.0\n",
            "Precision:  1.0\n",
            "Recall:  1.0\n",
            "F1_score:  1.0\n"
          ]
        }
      ]
    },
    {
      "cell_type": "markdown",
      "source": [
        "### Z-score Normalization"
      ],
      "metadata": {
        "id": "R_BwtxrUV794"
      }
    },
    {
      "cell_type": "code",
      "source": [
        "standard_scaler_KNN = StandardScaler()\n",
        "X_KNN_z_score = pd.DataFrame(standard_scaler_KNN.fit_transform(X_KNN), index = X_KNN.index, columns = X_KNN.columns)\n",
        "X_train_KNN_z_score, X_test_KNN_z_score, y_train_KNN_z_score, y_test_KNN_z_score = train_test_split(X_KNN_z_score, y_KNN, test_size=0.2,random_state=0)"
      ],
      "metadata": {
        "id": "_rNZnuZLV6aZ"
      },
      "execution_count": 21,
      "outputs": []
    },
    {
      "cell_type": "code",
      "source": [
        "classifierKNN_z_score = KNeighborsClassifier()\n",
        "classifierKNN_z_score.fit(X_train_KNN_z_score, y_train_KNN_z_score)\n",
        "y_pred_KNN_z_score = classifierKNN_z_score.predict(X_test_KNN_z_score)\n",
        "classifierKNN_z_score.evaluation(\"Z-score\", y_test_KNN_z_score, y_pred_KNN_z_score)"
      ],
      "metadata": {
        "id": "0ItrZ4dwWqum",
        "colab": {
          "base_uri": "https://localhost:8080/"
        },
        "outputId": "f51e88fe-4b30-4ef2-b76e-a6cb9ab0b359"
      },
      "execution_count": 22,
      "outputs": [
        {
          "output_type": "stream",
          "name": "stdout",
          "text": [
            "K-Nearest Neigbours Z-score Normalization:\n",
            "Accuracy:  0.9935483870967742\n",
            "Precision:  0.9883233682112604\n",
            "Recall:  0.9953633130081301\n",
            "F1_score:  0.9917819104948413\n"
          ]
        }
      ]
    },
    {
      "cell_type": "markdown",
      "source": [
        "### Without Normalization"
      ],
      "metadata": {
        "id": "sZmC3W-caL9v"
      }
    },
    {
      "cell_type": "code",
      "source": [
        "X_train_KNN_WN, X_test_KNN_WN, y_train_KNN_WN, y_test_KNN_WN = train_test_split(X_KNN, y_KNN, test_size=0.2,random_state=0)"
      ],
      "metadata": {
        "id": "JJ11Um5DaQK3"
      },
      "execution_count": 23,
      "outputs": []
    },
    {
      "cell_type": "code",
      "source": [
        "classifierKNN_WN = KNeighborsClassifier()\n",
        "classifierKNN_WN.fit(X_train_KNN_WN, y_train_KNN_WN)\n",
        "y_pred_KNN_WN = classifierKNN_WN.predict(X_test_KNN_WN)\n",
        "classifierKNN_WN.evaluation(\"Without\", y_test_KNN_WN, y_pred_KNN_WN)"
      ],
      "metadata": {
        "id": "lMD38AXbbSfV",
        "colab": {
          "base_uri": "https://localhost:8080/"
        },
        "outputId": "ea7886b9-8695-4fc2-85d2-bdd31c9b2a05"
      },
      "execution_count": 24,
      "outputs": [
        {
          "output_type": "stream",
          "name": "stdout",
          "text": [
            "K-Nearest Neigbours Without Normalization:\n",
            "Accuracy:  0.7390029325513197\n",
            "Precision:  0.5229239404306902\n",
            "Recall:  0.4649218578334432\n",
            "F1_score:  0.4389370583987962\n"
          ]
        }
      ]
    },
    {
      "cell_type": "markdown",
      "source": [
        "# **Visualization**"
      ],
      "metadata": {
        "id": "HJ-5UxXfgdRs"
      }
    },
    {
      "cell_type": "markdown",
      "source": [
        "## Line Charts"
      ],
      "metadata": {
        "id": "NtopYP14lo8M"
      }
    },
    {
      "cell_type": "code",
      "source": [
        "def plot_error_vs_iterations(iterations, cost, norm):\n",
        "  fig, ax = plt.subplots()\n",
        "  ax.plot(np.arange(iterations), cost, 'r')\n",
        "  ax.set_xlabel('Iterations')\n",
        "  ax.set_ylabel('Cost')\n",
        "  ax.set_title('Error vs Iterations ' + norm)\n",
        "  plt.style.use('fivethirtyeight')\n",
        "  plt.show()\n",
        "  print()\n",
        "\n",
        "plot_error_vs_iterations(iters_min_max, cost_array_min_max, 'Min Max')\n",
        "plot_error_vs_iterations(iters_z_score, cost_array_z_score, 'Z-score')\n",
        "plot_error_vs_iterations(iters_WN, cost_array_WN, 'WN')"
      ],
      "metadata": {
        "id": "VXYHw-7UeB1K",
        "colab": {
          "base_uri": "https://localhost:8080/",
          "height": 963
        },
        "outputId": "80059434-64ba-416b-eed7-9f8ad272bfeb"
      },
      "execution_count": 25,
      "outputs": [
        {
          "output_type": "display_data",
          "data": {
            "text/plain": [
              "<Figure size 432x288 with 1 Axes>"
            ],
            "image/png": "[encoded data removed]"
          },
          "metadata": {
            "needs_background": "light"
          }
        },
        {
          "output_type": "stream",
          "name": "stdout",
          "text": [
            "\n"
          ]
        },
        {
          "output_type": "display_data",
          "data": {
            "text/plain": [
              "<Figure size 432x288 with 1 Axes>"
            ],
            "image/png": "[encoded data removed]"
          },
          "metadata": {}
        },
        {
          "output_type": "stream",
          "name": "stdout",
          "text": [
            "\n"
          ]
        },
        {
          "output_type": "display_data",
          "data": {
            "text/plain": [
              "<Figure size 432x288 with 1 Axes>"
            ],
            "image/png": "[encoded data removed]"
          },
          "metadata": {}
        },
        {
          "output_type": "stream",
          "name": "stdout",
          "text": [
            "\n"
          ]
        }
      ]
    },
    {
      "cell_type": "markdown",
      "source": [
        "## **Bar Chart**"
      ],
      "metadata": {
        "id": "XIY8kbfplv6I"
      }
    },
    {
      "cell_type": "code",
      "source": [
        "accuracies = [accuracy_score(y_test_KNN_min_max,y_pred_KNN_min_max), accuracy_score(y_test_KNN_z_score,y_pred_KNN_z_score), accuracy_score(y_test_KNN_WN,y_pred_KNN_WN)]\n",
        "precisions = [precision_score(y_test_KNN_min_max,y_pred_KNN_min_max, average = 'macro'), precision_score(y_test_KNN_z_score,y_pred_KNN_z_score, average = 'macro'), precision_score(y_test_KNN_WN,y_pred_KNN_WN, average = 'macro')]\n",
        "recalls = [recall_score(y_test_KNN_min_max,y_pred_KNN_min_max, average = 'macro'), recall_score(y_test_KNN_z_score,y_pred_KNN_z_score, average = 'macro'), recall_score(y_test_KNN_WN,y_pred_KNN_WN, average = 'macro')]\n",
        "f1_scores = [f1_score(y_test_KNN_min_max,y_pred_KNN_min_max, average = 'macro'), f1_score(y_test_KNN_z_score,y_pred_KNN_z_score, average = 'macro'), f1_score(y_test_KNN_WN,y_pred_KNN_WN, average = 'macro')]\n",
        "classifier_names = ['Min Max', 'Z-score', 'WN']\n",
        "label_names = [\"Accuracy\", \"Precision\", \"Recall\", \"F1 Score\"]"
      ],
      "metadata": {
        "id": "_B-oV_D3gw7m"
      },
      "execution_count": 26,
      "outputs": []
    },
    {
      "cell_type": "code",
      "source": [
        "x_axis = np.arange(len(classifier_names))\n",
        "plt.bar(x_axis+0.1, accuracies, label='Accuracies', width=0.2)\n",
        "plt.bar(x_axis+0.3, precisions, label='Precisions', width=0.2)\n",
        "plt.bar(x_axis+0.5, recalls, label='Recalls', width=0.2)\n",
        "plt.bar(x_axis+0.7, f1_scores, label='F1 Scores', width=0.2)\n",
        "plt.xticks(x_axis+0.4, classifier_names)\n",
        "plt.legend(bbox_to_anchor=(1,1))\n",
        "plt.xlabel('Classifier')\n",
        "plt.ylabel('Percentage %')\n",
        "plt.title('Summary Results')\n",
        "plt.show()"
      ],
      "metadata": {
        "id": "XdKgLLeLiitb",
        "colab": {
          "base_uri": "https://localhost:8080/",
          "height": 325
        },
        "outputId": "cc053cf4-b184-45e4-e959-1a319b417831"
      },
      "execution_count": 27,
      "outputs": [
        {
          "output_type": "display_data",
          "data": {
            "text/plain": [
              "<Figure size 432x288 with 1 Axes>"
            ],
            "image/png": "[encoded data removed]"
          },
          "metadata": {}
        }
      ]
    },
    {
      "cell_type": "markdown",
      "source": [
        "## Radar Chart"
      ],
      "metadata": {
        "id": "0S6mJyHKlzJU"
      }
    },
    {
      "cell_type": "code",
      "source": [
        "metrics = np.array([accuracies, precisions, recalls, f1_scores]).T.tolist()\n",
        "min_max = metrics[0]\n",
        "z_score = metrics[1]\n",
        "WN = metrics[2]\n",
        "angles=np.linspace(0,2*np.pi,len(label_names), endpoint=False)\n",
        "angles=np.concatenate((angles,[angles[0]]))\n",
        "label_names.append(label_names[0])\n",
        "min_max.append(min_max[0])\n",
        "z_score.append(z_score[0])\n",
        "WN.append(WN[0])\n",
        "fig=plt.figure(figsize=(6,6))\n",
        "ax=fig.add_subplot(111, polar=True)\n",
        "ax.plot(angles,min_max, 'o-', color='green', linewidth=1, label='Min Max')\n",
        "ax.fill(angles, min_max, alpha=0.25, color='green')\n",
        "ax.plot(angles,z_score, 'o-', color='orange', linewidth=1, label='Z-score')\n",
        "ax.fill(angles, z_score, alpha=0.25, color='orange')\n",
        "ax.plot(angles,WN, 'o-', color='yellow', linewidth=1, label='WN')\n",
        "ax.fill(angles, WN, alpha=0.25, color='yellow')\n",
        "ax.set_thetagrids(angles * 180/np.pi, label_names)\n",
        "plt.grid(True)\n",
        "plt.tight_layout()\n",
        "plt.legend()\n",
        "plt.show()"
      ],
      "metadata": {
        "id": "HaZ5Qqy1itBm",
        "colab": {
          "base_uri": "https://localhost:8080/",
          "height": 420
        },
        "outputId": "c9deedda-b143-47eb-dbe0-91d163b28d2d"
      },
      "execution_count": 28,
      "outputs": [
        {
          "output_type": "display_data",
          "data": {
            "text/plain": [
              "<Figure size 432x432 with 1 Axes>"
            ],
            "image/png": "[encoded data removed]"
          },
          "metadata": {}
        }
      ]
    }
  ]
}