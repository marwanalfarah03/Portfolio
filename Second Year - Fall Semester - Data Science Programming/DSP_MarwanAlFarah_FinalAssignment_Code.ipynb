{
  "cells": [
    {
      "cell_type": "markdown",
      "source": [
        "<br>\n",
        "\n",
        "<center><img src=\"https://www.htu.edu.jo/images/ThumbnailsCoverPhotos/HTU%20Logo-250px.png\" alt=\"HTU\"  width=\"180px\" align=\"center\"> \n",
        "\n",
        "\n",
        "<br>\n",
        "\n",
        "<p> \n",
        "\n",
        "**Data Science Programming**\n",
        "\n",
        "10204281\n",
        "\n",
        "Section (4)\n",
        "\n",
        "**Data Preprocessing, Modeling, and Reporting**\n",
        "\n",
        "**Submitted to**\n",
        "\n",
        "Dr. Sinan Kamal\n",
        "\n",
        "**Submitted on**\n",
        "\n",
        "February 1st, 2023\n",
        "\n",
        "**Submitted by**\n",
        "\n",
        "Marwan Tareq Shafiq Al Farah\n",
        "\n",
        "**Student ID**\n",
        "\n",
        "21110011\n",
        "\n",
        "Fall 2022 – 2023\n",
        "</p></center>"
      ],
      "metadata": {
        "id": "3NInADDfwLw5"
      }
    },
    {
      "cell_type": "markdown",
      "source": [
        "# Libraries"
      ],
      "metadata": {
        "id": "9AgtfYgcwtWY"
      }
    },
    {
      "cell_type": "code",
      "execution_count": 1,
      "metadata": {
        "id": "wWp8-QfJ4JXN"
      },
      "outputs": [],
      "source": [
        "import pandas as pd\n",
        "import numpy as np\n",
        "from sklearn.model_selection import train_test_split\n",
        "from sklearn.metrics import accuracy_score,precision_score, recall_score, f1_score\n",
        "from sklearn.neighbors import KNeighborsClassifier\n",
        "from sklearn.tree import DecisionTreeClassifier\n",
        "from sklearn.naive_bayes import GaussianNB\n",
        "from sklearn.ensemble import RandomForestClassifier\n",
        "import matplotlib.pyplot as plt"
      ]
    },
    {
      "cell_type": "markdown",
      "metadata": {
        "id": "GrEt-lty4Uef"
      },
      "source": [
        "# **Data Loading**"
      ]
    },
    {
      "cell_type": "code",
      "execution_count": 2,
      "metadata": {
        "id": "aWZtzxfG4W1R"
      },
      "outputs": [],
      "source": [
        "# Read the CSV file and create a dataframe named complaints_df\n",
        "complaints_df = pd.read_csv('/content/Complaints.csv')"
      ]
    },
    {
      "cell_type": "markdown",
      "metadata": {
        "id": "vSrdLnAK44sD"
      },
      "source": [
        "# **Data Preprocessing**"
      ]
    },
    {
      "cell_type": "markdown",
      "metadata": {
        "id": "D_tnmIYI8_Sy"
      },
      "source": [
        "## OFFER_NAME"
      ]
    },
    {
      "cell_type": "code",
      "execution_count": 3,
      "metadata": {
        "id": "vWvX02ui9E3G"
      },
      "outputs": [],
      "source": [
        "# Calculate the percentage of each unique value in the OFFER_NAME column\n",
        "per_true = complaints_df['OFFER_NAME'].value_counts() / complaints_df['OFFER_NAME'].count()\n",
        "\n",
        "# Replace missing values in the OFFER_NAME column with random choices based on the calculated percentages\n",
        "complaints_df['OFFER_NAME'].fillna(pd.Series(np.random.choice(list(per_true.index), p=per_true, size=len(complaints_df))), inplace = True)"
      ]
    },
    {
      "cell_type": "markdown",
      "metadata": {
        "id": "2iWhK8c8V4xX"
      },
      "source": [
        "## CUSTOMER_GROUP"
      ]
    },
    {
      "cell_type": "code",
      "execution_count": 4,
      "metadata": {
        "id": "37xY-VmFm0aP"
      },
      "outputs": [],
      "source": [
        "# Create a dictionary that maps OFFER_NAME values to a dictionary of CUSTOMER_GROUP counts\n",
        "dict1 = {offer_name: dict(complaints_df[complaints_df['OFFER_NAME'] == offer_name]['CUSTOMER_GROUP'].value_counts() / complaints_df[complaints_df['OFFER_NAME'] == offer_name]['CUSTOMER_GROUP'].count()) for offer_name in list(complaints_df['OFFER_NAME'].unique())}\n",
        "\n",
        "# Create a list of random values for CUSTOMER_GROUP, based on the OFFER_NAME value\n",
        "list2 = [np.random.choice(list(dict1[complaints_df.iloc[i]['OFFER_NAME']].keys()), p = list(dict1[complaints_df.iloc[i]['OFFER_NAME']].values())) if str(complaints_df.loc[i]['CUSTOMER_GROUP']) == 'nan' else None for i in range(len(complaints_df))]\n",
        "\n",
        "# Replace null values in the CUSTOMER_GROUP column with the corresponding value in list2\n",
        "complaints_df['CUSTOMER_GROUP'] = np.where(complaints_df['CUSTOMER_GROUP'].isnull(), list2, complaints_df['CUSTOMER_GROUP'])"
      ]
    },
    {
      "cell_type": "markdown",
      "metadata": {
        "id": "63HYcMQ3cz_k"
      },
      "source": [
        "## AGE_BRACKET"
      ]
    },
    {
      "cell_type": "code",
      "execution_count": 5,
      "metadata": {
        "id": "BhT86icKcpdW"
      },
      "outputs": [],
      "source": [
        "# Replace missing values in the AGE_BRACKET column with 'The Case is Still Active'\n",
        "complaints_df['AGE_BRACKET'].fillna(\"The Case is Still Active\", inplace = True)"
      ]
    },
    {
      "cell_type": "markdown",
      "metadata": {
        "id": "fNT2__V71Dy-"
      },
      "source": [
        "## CLOSE_GROUP & OPEN_GROUP"
      ]
    },
    {
      "cell_type": "code",
      "execution_count": 6,
      "metadata": {
        "id": "c1xwNaY30Kfj"
      },
      "outputs": [],
      "source": [
        "# Replace the value of 'CLOSE_GROUP' column with 'The Case is still Active' when 'CURRENT_STATUS' column is not 'Resolved'\n",
        "complaints_df['CLOSE_GROUP'] = np.where(complaints_df['CURRENT_STATUS'] == 'Resolved', complaints_df['CLOSE_GROUP'], \"The Case is still Active\")"
      ]
    },
    {
      "cell_type": "code",
      "execution_count": 7,
      "metadata": {
        "id": "caN_fGKh_swz"
      },
      "outputs": [],
      "source": [
        "# Creating two dictionary mapping the 'OPEN_USER' and 'CLOSE_USER' with 'OPEN_GR' and 'CLOSE_GROUP'\n",
        "dict1 = {str(complaints_df[\"CLOSE_USER\"].iloc[index]): str(complaints_df[\"CLOSE_GROUP\"].iloc[index]) for index in range(len(complaints_df)) if pd.notnull(complaints_df[\"CLOSE_GROUP\"].iloc[index])}\n",
        "dict2 = {str(complaints_df[\"OPEN_USER\"].iloc[index]): str(complaints_df[\"OPEN_GR\"].iloc[index]) for index in range(len(complaints_df)) if pd.notnull(complaints_df[\"OPEN_GR\"].iloc[index])}\n",
        "\n",
        "# Filling the missing values of 'CLOSE_GROUP' column by the value of 'CLOSE_USER' column, firstly it uses dict1 and then dict2\n",
        "complaints_df[\"CLOSE_GROUP\"] = complaints_df[\"CLOSE_GROUP\"].fillna(complaints_df[\"CLOSE_USER\"].map(dict1))\n",
        "complaints_df[\"CLOSE_GROUP\"] = complaints_df[\"CLOSE_GROUP\"].fillna(complaints_df[\"CLOSE_USER\"].map(dict2))\n",
        "\n",
        "# Filling the missing values of 'OPEN_GR' column by the value of 'OPEN_USER' column, firstly it uses dict1 and then dict2\n",
        "complaints_df[\"OPEN_GR\"].fillna(complaints_df[\"OPEN_USER\"].map(dict1), inplace = True)\n",
        "complaints_df[\"OPEN_GR\"].fillna(complaints_df[\"OPEN_USER\"].map(dict2), inplace = True)"
      ]
    },
    {
      "cell_type": "code",
      "execution_count": 8,
      "metadata": {
        "id": "RZ4weNmnPhz1"
      },
      "outputs": [],
      "source": [
        "# Get a list of unique 'CLOSE_USER' where 'CLOSE_GROUP' is missing \n",
        "list1 = complaints_df[complaints_df['CLOSE_GROUP'].isnull()]['CLOSE_USER'].unique().tolist()\n",
        "\n",
        "# Get the proportion of relative frequency of non-null 'CLOSE_GROUP' column except 'The Case is still Active'\n",
        "per_true = complaints_df['CLOSE_GROUP'].value_counts().drop('The Case is still Active') / (complaints_df['CLOSE_GROUP'].count() - complaints_df['CLOSE_GROUP'].value_counts()['The Case is still Active'])\n",
        "\n",
        "# Choose a random value from the non-null 'CLOSE_GROUP' column for each element of list1\n",
        "list2 = [np.random.choice(list(per_true.index), p=per_true) for i in list1]\n",
        "\n",
        "# Replace the value of 'CLOSE_GROUP' column for each unique 'CLOSE_USER' in the list1 \n",
        "for i in range(len(list1)):\n",
        "  complaints_df['CLOSE_GROUP'][complaints_df['CLOSE_USER'] == list1[i]].replace(to_replace = list2[i])\n",
        "  \n",
        "# Fill the remaining missing values with a random value from the non-null 'CLOSE_GROUP' column\n",
        "complaints_df['CLOSE_GROUP'].fillna(np.random.choice(list(per_true.index), p=per_true), inplace = True)"
      ]
    },
    {
      "cell_type": "code",
      "execution_count": 9,
      "metadata": {
        "id": "amq3JM3VbVuC"
      },
      "outputs": [],
      "source": [
        "# Get a list of unique 'OPEN_USER' where 'OPEN_GR' is missing \n",
        "list1 = complaints_df[complaints_df['OPEN_GR'].isnull()]['OPEN_USER'].unique().tolist()\n",
        "\n",
        "# Get the proportion of relative frequency of non-null 'OPEN_GR' column \n",
        "per_true = complaints_df['OPEN_GR'].value_counts() / complaints_df['OPEN_GR'].count()\n",
        "\n",
        "# Choose a random value from the non-null 'OPEN_GR' column for each element of list1\n",
        "list2 = [np.random.choice(list(per_true.index), p=per_true) for i in list1]\n",
        "\n",
        "# Replace the value of 'OPEN_GR' column for each unique 'OPEN_USER' in the list1 \n",
        "for i in range(len(list1)):\n",
        "  complaints_df['OPEN_GR'][complaints_df['OPEN_USER'] == list1[i]].replace(to_replace = list2[i])\n",
        "  \n",
        "# Fill the remaining missing values with a random value from the non-null 'OPEN_GR' column\n",
        "complaints_df['OPEN_GR'].fillna(np.random.choice(list(per_true.index), p=per_true), inplace = True)"
      ]
    },
    {
      "cell_type": "markdown",
      "metadata": {
        "id": "eHg15KjVMra5"
      },
      "source": [
        "## ESCALATED_GROUP"
      ]
    },
    {
      "cell_type": "code",
      "execution_count": 10,
      "metadata": {
        "id": "Tj1M3q2yMqD-"
      },
      "outputs": [],
      "source": [
        "# Compute the relative frequency of values in the ESCALATED_GROUP column\n",
        "per_true = complaints_df['ESCALATED_GROUP'].value_counts() / complaints_df['ESCALATED_GROUP'].count()\n",
        "\n",
        "# Fill missing values of ESCALATED_GROUP column with random values chosen with the probability proportional to the relative frequency \n",
        "complaints_df['ESCALATED_GROUP'].fillna(pd.Series(np.random.choice(list(per_true.index), p=per_true, size=len(complaints_df))), inplace = True)\n",
        "\n",
        "# Replace the filled missing value with 'The complaint wasn't escalated' when ESCALATION_FLAG column is 'No'\n",
        "complaints_df['ESCALATED_GROUP'] = np.where(complaints_df['ESCALATION_FLAG'] == 'No', \"The complaint wasn't escalated\", complaints_df['ESCALATED_GROUP'])"
      ]
    },
    {
      "cell_type": "markdown",
      "metadata": {
        "id": "CrrSqpDaeNPQ"
      },
      "source": [
        "## CALLBACK_MECHANISM"
      ]
    },
    {
      "cell_type": "code",
      "execution_count": 11,
      "metadata": {
        "id": "Ixlz7GfxePg7"
      },
      "outputs": [],
      "source": [
        "# Compute the relative frequency of values in the CALLBACK_MECHANISM column\n",
        "per_true = complaints_df['CALLBACK_MECHANISM'].value_counts() / complaints_df['CALLBACK_MECHANISM'].count()\n",
        "\n",
        "# Fill missing values of CALLBACK_MECHANISM column with random values chosen with the probability proportional to the relative frequency \n",
        "complaints_df['CALLBACK_MECHANISM'].fillna(pd.Series(np.random.choice(list(per_true.index), p=per_true, size=len(complaints_df))), inplace = True)\n",
        "\n",
        "# Replace the filled missing value with 'User Not Filled' when ACTUAL_COMPLAINT column is 'User Not Filled'\n",
        "complaints_df['CALLBACK_MECHANISM'] = np.where(complaints_df['ACTUAL_COMPLAINT'] == 'User Not Filled', 'User Not Filled', complaints_df['CALLBACK_MECHANISM'])"
      ]
    },
    {
      "cell_type": "markdown",
      "metadata": {
        "id": "zdsWD8Xt23uB"
      },
      "source": [
        "## drop()"
      ]
    },
    {
      "cell_type": "code",
      "execution_count": 12,
      "metadata": {
        "id": "SkIyECZb25r-"
      },
      "outputs": [],
      "source": [
        "# Drop the columns from the dataframe\n",
        "complaints_df = complaints_df.drop(['OPEN_USER', 'CLOSE_USER', 'CASE_ID', 'OPEN_DATE', 'CLOSE_DATE', 'RESOLUTION', 'RESOLUTION_DESCRIPTION', 'CASE_DESC'], axis = 'columns')"
      ]
    },
    {
      "cell_type": "markdown",
      "source": [
        "## Converting all categorical variables to numeric"
      ],
      "metadata": {
        "id": "KIU2MoPEU3Zd"
      }
    },
    {
      "cell_type": "code",
      "execution_count": 13,
      "metadata": {
        "id": "RDmxRu8d3zIN"
      },
      "outputs": [],
      "source": [
        "# Find the columns with object data type \n",
        "cat_columns = complaints_df.select_dtypes(['object']).columns\n",
        "\n",
        "# Convert the object columns to categorical encoding\n",
        "complaints_df[cat_columns] = complaints_df[cat_columns].apply(lambda x: pd.factorize(x)[0])"
      ]
    },
    {
      "cell_type": "markdown",
      "source": [
        "## Storing the input values in the X variable and all the ouputs in y variable"
      ],
      "metadata": {
        "id": "RQ1mcrlAX_sr"
      }
    },
    {
      "cell_type": "code",
      "execution_count": 14,
      "metadata": {
        "id": "Jh8KjLVW5UWs"
      },
      "outputs": [],
      "source": [
        "# Drop the column 'COMPLAINT_TYPE' from the DataFrame and assign it to the feature dataframe\n",
        "X = complaints_df.drop([\"COMPLAINT_TYPE\"], axis=1)\n",
        "\n",
        "# Extract the column 'COMPLAINT_TYPE' from the DataFrame and assign it to the target dataframe\n",
        "y = complaints_df[\"COMPLAINT_TYPE\"]"
      ]
    },
    {
      "cell_type": "markdown",
      "source": [
        "## Splitting the data into training and testing data"
      ],
      "metadata": {
        "id": "WLCAqLOkVKSa"
      }
    },
    {
      "cell_type": "code",
      "execution_count": 15,
      "metadata": {
        "id": "Yr0t4zCf0aWm"
      },
      "outputs": [],
      "source": [
        "# Split the data into train and test sets\n",
        "X_train, X_test, y_train, y_test = train_test_split(X, y, test_size=0.2,random_state=0)"
      ]
    },
    {
      "cell_type": "markdown",
      "source": [
        "# **Modeling**"
      ],
      "metadata": {
        "id": "9qrQfQx9xCBX"
      }
    },
    {
      "cell_type": "markdown",
      "source": [
        "## KNN Algorithm"
      ],
      "metadata": {
        "id": "862NITxnVSHQ"
      }
    },
    {
      "cell_type": "code",
      "execution_count": 16,
      "metadata": {
        "id": "0x4_AlEu0boj"
      },
      "outputs": [],
      "source": [
        "# Create a K-Nearest Neighbor classifier object\n",
        "classiferKNN = KNeighborsClassifier(n_neighbors=1)\n",
        "\n",
        "# Create an array to store evaluation metrics\n",
        "arrKNN = np.zeros((4,10))\n",
        "\n",
        "# Train and evaluate the classifier in a loop for 10 iterations\n",
        "for i in range(10):\n",
        "  # Train the classifier\n",
        "  classiferKNN = classiferKNN.fit(X_train,y_train)\n",
        "\n",
        "  # Predict labels for the test set using the trained classifier\n",
        "  y_pred_KNN = classiferKNN.predict(X_test)\n",
        "\n",
        "  # Calculate evaluation metrics for the current iteration and store them in the array\n",
        "  arrKNN[0][i] = accuracy_score(y_test,y_pred_KNN)\n",
        "  arrKNN[1][i] = precision_score(y_test,y_pred_KNN)\n",
        "  arrKNN[2][i] = recall_score(y_test,y_pred_KNN)\n",
        "  arrKNN[3][i] = f1_score(y_test,y_pred_KNN)\n",
        "arrKNN *= 100"
      ]
    },
    {
      "cell_type": "code",
      "source": [
        "# Calculate the mean of the evaluation metrics over all iterations\n",
        "print(\"Accuracy: \",arrKNN[0].mean())\n",
        "print(\"Precision: \",arrKNN[1].mean())\n",
        "print(\"Recall: \",arrKNN[2].mean())\n",
        "print(\"F1_score: \",arrKNN[3].mean())"
      ],
      "metadata": {
        "colab": {
          "base_uri": "https://localhost:8080/"
        },
        "id": "GqTP9R8MUXrW",
        "outputId": "2d174720-474a-4f03-97f0-d5bd0886cbaa"
      },
      "execution_count": 17,
      "outputs": [
        {
          "output_type": "stream",
          "name": "stdout",
          "text": [
            "Accuracy:  93.99903984637544\n",
            "Precision:  88.02395209580837\n",
            "Recall:  87.15415019762847\n",
            "F1_score:  87.58689175769612\n"
          ]
        }
      ]
    },
    {
      "cell_type": "markdown",
      "source": [
        "## Decision Tree Algorithm"
      ],
      "metadata": {
        "id": "1nlXTvQ8V3Gx"
      }
    },
    {
      "cell_type": "code",
      "execution_count": 18,
      "metadata": {
        "id": "dkLTCpDq1cUZ"
      },
      "outputs": [],
      "source": [
        "# Create a Decision Tree classifier object\n",
        "classiferDT = DecisionTreeClassifier()\n",
        "\n",
        "# Create an array to store evaluation metrics\n",
        "arrDT = np.zeros((4,10))\n",
        "\n",
        "# Train and evaluate the classifier in a loop for 10 iterations\n",
        "for i in range(10):\n",
        "  # Train the classifier\n",
        "  classiferDT = classiferDT.fit(X_train,y_train)\n",
        "\n",
        "  # Predict labels for the test set using the trained classifier\n",
        "  y_pred_DT = classiferDT.predict(X_test)\n",
        "\n",
        "  # Calculate evaluation metrics for the current iteration and store them in the array\n",
        "  arrDT[0][i] = accuracy_score(y_test,y_pred_DT)\n",
        "  arrDT[1][i] = precision_score(y_test,y_pred_DT)\n",
        "  arrDT[2][i] = recall_score(y_test,y_pred_DT)\n",
        "  arrDT[3][i] = f1_score(y_test,y_pred_DT)\n",
        "arrDT *= 100"
      ]
    },
    {
      "cell_type": "code",
      "source": [
        "# Calculate the mean of the evaluation metrics over all iterations\n",
        "print(\"Accuracy: \",arrDT[0].mean())\n",
        "print(\"Precision: \",arrDT[1].mean())\n",
        "print(\"Recall: \",arrDT[2].mean())\n",
        "print(\"F1_score: \",arrDT[3].mean())"
      ],
      "metadata": {
        "colab": {
          "base_uri": "https://localhost:8080/"
        },
        "id": "KQMhwZnZTzu7",
        "outputId": "15ee114d-c898-42d2-b73c-c00d73bb8cac"
      },
      "execution_count": 19,
      "outputs": [
        {
          "output_type": "stream",
          "name": "stdout",
          "text": [
            "Accuracy:  99.06385021603457\n",
            "Precision:  97.76192576701814\n",
            "Recall:  98.399209486166\n",
            "F1_score:  98.07943691266391\n"
          ]
        }
      ]
    },
    {
      "cell_type": "markdown",
      "source": [
        "## Gaussian Naive Bayes Algorithm"
      ],
      "metadata": {
        "id": "osow80YnWLu0"
      }
    },
    {
      "cell_type": "code",
      "execution_count": 20,
      "metadata": {
        "id": "G-OYhjQE3Vgj"
      },
      "outputs": [],
      "source": [
        "# Create a Gaussian Naive Bayes classifier object\n",
        "classiferGNB = GaussianNB()\n",
        "\n",
        "# Create an array to store evaluation metrics\n",
        "arrGNB = np.zeros((4,10))\n",
        "\n",
        "# Train and evaluate the classifier in a loop for 10 iterations\n",
        "for i in range(10):\n",
        "  # Train the classifier\n",
        "  classiferGNB = classiferGNB.fit(X_train,y_train)\n",
        "\n",
        "  # Predict labels for the test set using the trained classifier\n",
        "  y_pred_GNB = classiferGNB.predict(X_test)\n",
        "\n",
        "  # Calculate evaluation metrics for the current iteration and store them in the array\n",
        "  arrGNB[0][i] = accuracy_score(y_test,y_pred_GNB)\n",
        "  arrGNB[1][i] = precision_score(y_test,y_pred_GNB)\n",
        "  arrGNB[2][i] = recall_score(y_test,y_pred_GNB)\n",
        "  arrGNB[3][i] = f1_score(y_test,y_pred_GNB)\n",
        "arrGNB *= 100"
      ]
    },
    {
      "cell_type": "code",
      "source": [
        "# Calculate the mean of the evaluation metrics over all iterations\n",
        "print(\"Accuracy: \",arrGNB[0].mean())\n",
        "print(\"Precision: \",arrGNB[1].mean())\n",
        "print(\"Recall: \",arrGNB[2].mean())\n",
        "print(\"F1_score: \",arrGNB[3].mean())"
      ],
      "metadata": {
        "colab": {
          "base_uri": "https://localhost:8080/"
        },
        "id": "7RmbK7DDTJp_",
        "outputId": "b137e848-f841-4cd0-e038-a052c8366f1d"
      },
      "execution_count": 21,
      "outputs": [
        {
          "output_type": "stream",
          "name": "stdout",
          "text": [
            "Accuracy:  83.14930388862219\n",
            "Precision:  66.45435244161357\n",
            "Recall:  61.857707509881415\n",
            "F1_score:  64.07369498464689\n"
          ]
        }
      ]
    },
    {
      "cell_type": "markdown",
      "source": [
        "## Random Forest Algorithm"
      ],
      "metadata": {
        "id": "DUcIkmlIWeyj"
      }
    },
    {
      "cell_type": "code",
      "execution_count": 22,
      "metadata": {
        "id": "ExE3ithJD7Ya"
      },
      "outputs": [],
      "source": [
        "# Create a Random Forest classifier object\n",
        "classiferRF = RandomForestClassifier()\n",
        "\n",
        "# Create an array to store evaluation metrics\n",
        "arrRF = np.zeros((4,10))\n",
        "\n",
        "# Train and evaluate the classifier in a loop for 10 iterations\n",
        "for i in range(10):\n",
        "  # Train the classifier\n",
        "  classiferRF = classiferRF.fit(X_train,y_train)\n",
        "  \n",
        "  # Predict labels for the test set using the trained classifier\n",
        "  y_pred_RF = classiferRF.predict(X_test)\n",
        "  \n",
        "  # Calculate evaluation metrics for the current iteration and store them in the array\n",
        "  arrRF[0][i] = accuracy_score(y_test,y_pred_RF)\n",
        "  arrRF[1][i] = precision_score(y_test,y_pred_RF)\n",
        "  arrRF[2][i] = recall_score(y_test,y_pred_RF)\n",
        "  arrRF[3][i] = f1_score(y_test,y_pred_RF)\n",
        "arrRF *= 100"
      ]
    },
    {
      "cell_type": "code",
      "source": [
        "# Calculate the mean of the evaluation metrics over all iterations\n",
        "print(\"Accuracy: \",arrRF[0].mean())\n",
        "print(\"Precision: \",arrRF[1].mean())\n",
        "print(\"Recall: \",arrRF[2].mean())\n",
        "print(\"F1_score: \",arrRF[3].mean())"
      ],
      "metadata": {
        "colab": {
          "base_uri": "https://localhost:8080/"
        },
        "id": "zdWJViguTCWg",
        "outputId": "0cabd92b-6019-4cec-ccae-d0abf4500a66"
      },
      "execution_count": 23,
      "outputs": [
        {
          "output_type": "stream",
          "name": "stdout",
          "text": [
            "Accuracy:  99.22227556409027\n",
            "Precision:  98.28518018940746\n",
            "Recall:  98.51778656126483\n",
            "F1_score:  98.40119660013984\n"
          ]
        }
      ]
    },
    {
      "cell_type": "markdown",
      "source": [
        "# **Data Visualization**"
      ],
      "metadata": {
        "id": "vxCCSXeCdZPr"
      }
    },
    {
      "cell_type": "code",
      "source": [
        "# Calculate the evaluation metrics for each classifier\n",
        "accuracies = [i.mean() for i in [arrKNN[0], arrDT[0], arrGNB[0], arrRF[0]]]\n",
        "precisions = [i.mean() for i in [arrKNN[1], arrDT[1], arrGNB[1], arrRF[1]]]\n",
        "recalls = [i.mean() for i in [arrKNN[2], arrDT[2], arrGNB[2], arrRF[2]]]\n",
        "f1_scores = [i.mean() for i in [arrKNN[3], arrDT[3], arrGNB[3], arrRF[3]]]\n",
        "\n",
        "# Create a list of the names of the classifiers\n",
        "classifier_names = ['KNN', 'DT', 'GNB', 'RF']\n",
        "\n",
        "# Create a list of the names of the evaluation measures\n",
        "label_names = [\"Accuracy\", \"Precision\", \"Recall\", \"F1 Score\"]"
      ],
      "metadata": {
        "id": "LOELgHE6Nk1r"
      },
      "execution_count": 24,
      "outputs": []
    },
    {
      "cell_type": "markdown",
      "source": [
        "## **Bar Plot**"
      ],
      "metadata": {
        "id": "_dQs-G0r5Kle"
      }
    },
    {
      "cell_type": "code",
      "source": [
        "# Create x-axis tick marks and labels\n",
        "x_axis = np.arange(len(classifier_names))\n",
        "\n",
        "# Create bar plots for evaluation metrics\n",
        "plt.bar(x_axis+0.1, accuracies, label='Accuracies', width=0.2)\n",
        "plt.bar(x_axis+0.3, precisions, label='Precisions', width=0.2)\n",
        "plt.bar(x_axis+0.5, recalls, label='Recalls', width=0.2)\n",
        "plt.bar(x_axis+0.7, f1_scores, label='F1 Scores', width=0.2)\n",
        "plt.xticks(x_axis+0.4, classifier_names)\n",
        "\n",
        "# Add legend and labels\n",
        "plt.legend(bbox_to_anchor=(1,1))\n",
        "plt.xlabel('Classifier')\n",
        "plt.ylabel('Percentage %')\n",
        "plt.title('Summary Results')\n",
        "\n",
        "# Display plot\n",
        "plt.show()"
      ],
      "metadata": {
        "colab": {
          "base_uri": "https://localhost:8080/",
          "height": 0
        },
        "id": "GWW5gpQzKS-s",
        "outputId": "d6bf6a53-f13f-489c-ed60-1e5229a13225"
      },
      "execution_count": 25,
      "outputs": [
        {
          "output_type": "display_data",
          "data": {
            "text/plain": [
              "<Figure size 432x288 with 1 Axes>"
            ],
            "image/png": "[encoded data removed]"
          },
          "metadata": {
            "needs_background": "light"
          }
        }
      ]
    },
    {
      "cell_type": "markdown",
      "source": [
        "## **Box Plot**"
      ],
      "metadata": {
        "id": "FhgLDyKVRBYw"
      }
    },
    {
      "cell_type": "markdown",
      "source": [
        "### KNN Box Plot"
      ],
      "metadata": {
        "id": "qrzzExUY5PJr"
      }
    },
    {
      "cell_type": "code",
      "source": [
        "# Create a figure and axis object\n",
        "fig, ax = plt.subplots()\n",
        "\n",
        "# Create the box plot\n",
        "ax.boxplot([arrKNN[0], arrKNN[1], arrKNN[2], arrKNN[3]], labels=label_names)\n",
        "\n",
        "# Plot title\n",
        "plt.title('KNN Box Plot')\n",
        "\n",
        "# Display the plot\n",
        "plt.show()"
      ],
      "metadata": {
        "colab": {
          "base_uri": "https://localhost:8080/",
          "height": 0
        },
        "id": "prEQ6sW5ylfn",
        "outputId": "1d63ff92-fafc-4be7-bbdb-33b9f02f6c29"
      },
      "execution_count": 26,
      "outputs": [
        {
          "output_type": "display_data",
          "data": {
            "text/plain": [
              "<Figure size 432x288 with 1 Axes>"
            ],
            "image/png": "[encoded data removed]"
          },
          "metadata": {
            "needs_background": "light"
          }
        }
      ]
    },
    {
      "cell_type": "markdown",
      "source": [
        "### Decision Tree Box Plot"
      ],
      "metadata": {
        "id": "cvgRZ_XXQujt"
      }
    },
    {
      "cell_type": "code",
      "source": [
        "# Create a figure and axis object\n",
        "fig, ax = plt.subplots()\n",
        "\n",
        "# Create the box plot\n",
        "ax.boxplot([arrDT[0], arrDT[1], arrDT[2], arrDT[3]], labels=label_names)\n",
        "\n",
        "# Plot title\n",
        "plt.title('Decision Tree Box Plot')\n",
        "\n",
        "# Display the plot\n",
        "plt.show()"
      ],
      "metadata": {
        "colab": {
          "base_uri": "https://localhost:8080/",
          "height": 0
        },
        "id": "J8Ibo2rhOw26",
        "outputId": "fe97705c-9602-49b2-f954-532edda8ca8f"
      },
      "execution_count": 27,
      "outputs": [
        {
          "output_type": "display_data",
          "data": {
            "text/plain": [
              "<Figure size 432x288 with 1 Axes>"
            ],
            "image/png": "[encoded data removed]"
          },
          "metadata": {
            "needs_background": "light"
          }
        }
      ]
    },
    {
      "cell_type": "markdown",
      "source": [
        "### Gaussian Naive Bayes Box Plot"
      ],
      "metadata": {
        "id": "6kk9NtcVQx_3"
      }
    },
    {
      "cell_type": "code",
      "source": [
        "# Create a figure and axis object\n",
        "fig, ax = plt.subplots()\n",
        "\n",
        "# Create the box plot\n",
        "ax.boxplot([arrGNB[0], arrGNB[1], arrGNB[2], arrGNB[3]], labels=label_names)\n",
        "\n",
        "# Plot title\n",
        "plt.title('Gaussian Naive Bayes Box Plot')\n",
        "\n",
        "# Display the plot\n",
        "plt.show()"
      ],
      "metadata": {
        "colab": {
          "base_uri": "https://localhost:8080/",
          "height": 0
        },
        "id": "Au4C30HXO5dr",
        "outputId": "99608a4c-89f6-465a-d3c1-3b2e199b6e86"
      },
      "execution_count": 28,
      "outputs": [
        {
          "output_type": "display_data",
          "data": {
            "text/plain": [
              "<Figure size 432x288 with 1 Axes>"
            ],
            "image/png": "[encoded data removed]"
          },
          "metadata": {
            "needs_background": "light"
          }
        }
      ]
    },
    {
      "cell_type": "markdown",
      "source": [
        "### Random Forest Box Plot"
      ],
      "metadata": {
        "id": "wq4O5jQSQ21w"
      }
    },
    {
      "cell_type": "code",
      "source": [
        "# Create a figure and axis object\n",
        "fig, ax = plt.subplots()\n",
        "\n",
        "# Create the box plot\n",
        "ax.boxplot([arrRF[0], arrRF[1], arrRF[2], arrRF[3]], labels=label_names)\n",
        "\n",
        "# Plot title\n",
        "plt.title('Random Forest Box Plot')\n",
        "\n",
        "# Display the plot\n",
        "plt.show()"
      ],
      "metadata": {
        "colab": {
          "base_uri": "https://localhost:8080/",
          "height": 0
        },
        "id": "_RooVzzSO_DQ",
        "outputId": "c84355ee-ab6d-4e86-e507-a3a9e10b64a9"
      },
      "execution_count": 29,
      "outputs": [
        {
          "output_type": "display_data",
          "data": {
            "text/plain": [
              "<Figure size 432x288 with 1 Axes>"
            ],
            "image/png": "[encoded data removed]"
          },
          "metadata": {
            "needs_background": "light"
          }
        }
      ]
    },
    {
      "cell_type": "markdown",
      "source": [
        "## **Radar**"
      ],
      "metadata": {
        "id": "9XGQIK2i5RCg"
      }
    },
    {
      "cell_type": "code",
      "source": [
        "# Transpose the metrics array and convert it back to a list\n",
        "metrics = np.array([accuracies, precisions, recalls, f1_scores]).T.tolist()\n",
        "# Assign each list in the metrics array to a variable\n",
        "KNN = metrics[0]\n",
        "DT = metrics[1]\n",
        "GNB = metrics[2]\n",
        "RF = metrics[3]\n",
        "\n",
        "\n",
        "# Create an array of angles for a polar plot using the linspace function of numpy\n",
        "angles=np.linspace(0,2*np.pi,len(label_names), endpoint=False)\n",
        "\n",
        "# Append the first angle to the end of the angles array to complete the circle\n",
        "angles=np.concatenate((angles,[angles[0]]))\n",
        "\n",
        "# Append the first value of label_names to all other arrays/lists used for visualization to maintain length consistency\n",
        "label_names.append(label_names[0])\n",
        "KNN.append(KNN[0])\n",
        "DT.append(DT[0])\n",
        "GNB.append(GNB[0])\n",
        "RF.append(RF[0])\n",
        "\n",
        "# Create a polar plot using matplotlib\n",
        "fig=plt.figure(figsize=(6,6))\n",
        "ax=fig.add_subplot(111, polar=True)\n",
        "\n",
        "# Plot KNN values\n",
        "ax.plot(angles,KNN, 'o-', color='green', linewidth=1, label='KNN')\n",
        "ax.fill(angles, KNN, alpha=0.25, color='green')\n",
        "\n",
        "# Plot DT values\n",
        "ax.plot(angles,DT, 'o-', color='orange', linewidth=1, label='DT')\n",
        "ax.fill(angles, DT, alpha=0.25, color='orange')\n",
        "\n",
        "# Plot GNB values\n",
        "ax.plot(angles,GNB, 'o-', color='yellow', linewidth=1, label='GNB')\n",
        "ax.fill(angles, GNB, alpha=0.25, color='yellow')\n",
        "\n",
        "# Plot RF values\n",
        "ax.plot(angles,RF, 'o-', color='blue', linewidth=1, label='RF')\n",
        "ax.fill(angles, RF, alpha=0.25, color='blue')\n",
        "\n",
        "# Set the angle labels and display grid\n",
        "ax.set_thetagrids(angles * 180/np.pi, label_names)\n",
        "plt.grid(True)\n",
        "plt.tight_layout()\n",
        "\n",
        "# Add legend\n",
        "plt.legend()\n",
        "\n",
        "# Display the plot\n",
        "plt.show()"
      ],
      "metadata": {
        "colab": {
          "base_uri": "https://localhost:8080/",
          "height": 0
        },
        "id": "ksfYiamxvNgL",
        "outputId": "84aa684f-7396-4074-b1e4-fddeff15561f"
      },
      "execution_count": 30,
      "outputs": [
        {
          "output_type": "display_data",
          "data": {
            "text/plain": [
              "<Figure size 432x432 with 1 Axes>"
            ],
            "image/png": "[encoded data removed]"
          },
          "metadata": {
            "needs_background": "light"
          }
        }
      ]
    }
  ],
  "metadata": {
    "colab": {
      "provenance": [],
      "collapsed_sections": [
        "9AgtfYgcwtWY",
        "GrEt-lty4Uef",
        "vSrdLnAK44sD",
        "D_tnmIYI8_Sy",
        "2iWhK8c8V4xX",
        "63HYcMQ3cz_k",
        "fNT2__V71Dy-",
        "eHg15KjVMra5",
        "CrrSqpDaeNPQ",
        "zdsWD8Xt23uB",
        "KIU2MoPEU3Zd",
        "RQ1mcrlAX_sr",
        "WLCAqLOkVKSa",
        "9qrQfQx9xCBX",
        "862NITxnVSHQ",
        "1nlXTvQ8V3Gx",
        "osow80YnWLu0",
        "DUcIkmlIWeyj",
        "vxCCSXeCdZPr",
        "_dQs-G0r5Kle",
        "FhgLDyKVRBYw",
        "qrzzExUY5PJr",
        "cvgRZ_XXQujt",
        "6kk9NtcVQx_3",
        "wq4O5jQSQ21w",
        "9XGQIK2i5RCg"
      ]
    },
    "kernelspec": {
      "display_name": "Python 3",
      "name": "python3"
    },
    "language_info": {
      "name": "python"
    }
  },
  "nbformat": 4,
  "nbformat_minor": 0
}